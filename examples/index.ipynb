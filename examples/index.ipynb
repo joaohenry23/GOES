{
 "cells": [
  {
   "cell_type": "markdown",
   "metadata": {},
   "source": [
    "# Tutorial index\n",
    "This tutorial is valid for **version 3.4** of the **GOES** package. If you have an older version installed, you must update it to the latest version."
   ]
  },
  {
   "cell_type": "markdown",
   "metadata": {},
   "source": [
    "1- Quick example to download and plot data\n",
    "- [Simple plot](https://github.com/joaohenry23/GOES/blob/master/examples/v3.4/simple_plot.ipynb)\n",
    "- [Elaborated plot](https://github.com/joaohenry23/GOES/blob/master/examples/v3.4/elaborated_plot.ipynb)\n",
    "- [Elaborated plot with custom color palette](https://github.com/joaohenry23/GOES/blob/master/examples/v3.4/elaborated_plot_2.ipynb)\n",
    "<br><br>\n",
    "\n",
    "2- Download data\n",
    "- [Tutorial for download data](https://github.com/joaohenry23/GOES/blob/master/examples/v3.4/download_data.ipynb)\n",
    "<br><br>\n",
    "\n",
    "3- Reads and manipulates files\n",
    "- [Reads one file](https://github.com/joaohenry23/GOES/blob/master/examples/v3.4/reads_one_file.ipynb)\n",
    "- [Reads multiple files](https://github.com/joaohenry23/GOES/blob/master/examples/v3.4/reads_multiple_files.ipynb)\n",
    "- [Locates files](https://github.com/joaohenry23/GOES/blob/master/examples/v3.4/locates_files.ipynb)\n",
    "- [Gets data from a specific coordinate](https://github.com/joaohenry23/GOES/blob/master/examples/v3.4/gets_data_from_one_coordinate.ipynb)\n",
    "<br><br>\n",
    "\n",
    "4- Plots data\n",
    "- [GOES-16 IR channel full disk plot](https://github.com/joaohenry23/GOES/blob/master/examples/v3.4/G16_IR__FD_plot.ipynb)\n",
    "- [GOES-16 IR channel full disk plot in geostationary projection](https://github.com/joaohenry23/GOES/blob/master/examples/v3.4/G16_IR__FD_GP_plot.ipynb)\n",
    "- [GOES-16 IR channel subregion plot](https://github.com/joaohenry23/GOES/blob/master/examples/v3.4/G16_IR__SR_plot.ipynb)\n",
    "- [GOES-16 IR channel subregion plot **(using reprojected data)**](https://github.com/joaohenry23/GOES/blob/master/examples/v3.4/G16_IR__SRCYL_plot.ipynb)\n",
    "- [GOES-16 WV channel subregion plot](https://github.com/joaohenry23/GOES/blob/master/examples/v3.4/G16_WV__SR_plot.ipynb)\n",
    "- [GOES-16 VIS channel subregion plot](https://github.com/joaohenry23/GOES/blob/master/examples/v3.4/G16_VIS_SR_plot.ipynb)\n",
    "<br><br>\n",
    "- [GOES-17 IR channel full disk plot](https://github.com/joaohenry23/GOES/blob/master/examples/v3.4/G17_IR__FD_plot.ipynb)\n",
    "- [GOES-17 IR channel full disk plot in geostationary projection](https://github.com/joaohenry23/GOES/blob/master/examples/v3.4/G17_IR__FD_GP_plot.ipynb)\n",
    "- [GOES-17 IR channel subregion plot](https://github.com/joaohenry23/GOES/blob/master/examples/v3.4/G17_IR__SR_plot.ipynb)\n",
    "<br><br>\n",
    "- [Convert L1b to L2 data of a IR channel and make its plot](https://github.com/joaohenry23/GOES/blob/master/examples/v3.4/G16_L1b_to_L2_IR__SR_plot.ipynb)\n",
    "- [Convert L1b to L2 data of a WV channel and make its plot](https://github.com/joaohenry23/GOES/blob/master/examples/v3.4/G16_L1b_to_L2_WV__SR_plot.ipynb)\n",
    "- [Convert L1b to L2 data of a VIS channel and make its plot](https://github.com/joaohenry23/GOES/blob/master/examples/v3.4/G16_L1b_to_L2_VIS_SR_plot.ipynb)\n",
    "<br><br>\n",
    "- [GOES-16 RRQPEF (ABI-derivative) product subregion plot](https://github.com/joaohenry23/GOES/blob/master/examples/v3.4/G16_RRQPEF_SR_plot.ipynb)\n",
    "<br><br>\n",
    "- [Air Mass RGB (RGB example using **non-reprojected** IR channels)](https://github.com/joaohenry23/GOES/blob/master/examples/v3.4/G16_air_mass_RGB_SR_plot.ipynb)\n",
    "- [Air Mass RGB (RGB example using **reprojected** IR channels)](https://github.com/joaohenry23/GOES/blob/master/examples/v3.4/G16_air_mass_RGB_SRCYL_plot.ipynb)\n",
    "\n",
    "- [True Color RGB (RGB example using **non-reprojected** VIS channels)](https://github.com/joaohenry23/GOES/blob/master/examples/v3.4/G16_true_color_RGB_SR_plot.ipynb)\n",
    "- [True Color RGB (RGB example using **reprojected** VIS channels)](https://github.com/joaohenry23/GOES/blob/master/examples/v3.4/G16_true_color_RGB_SRCYL_plot.ipynb)\n",
    "\n",
    "- [Day cloud phase RGB (RGB example using **non-reprojected** VIS and IR channels)](https://github.com/joaohenry23/GOES/blob/master/examples/v3.4/G16_day_cloud_phase_RGB_SR_plot.ipynb)\n",
    "- [Day cloud phase RGB (RGB example using **reprojected** VIS and IR channels)](https://github.com/joaohenry23/GOES/blob/master/examples/v3.4/G16_day_cloud_phase_RGB_SRCYL_plot.ipynb)\n",
    "<br><br>\n",
    "- [Plot the flash product of the GLM](https://github.com/joaohenry23/GOES/blob/master/examples/v3.4/G16_GLM_FLASH_SR_plot.ipynb)\n",
    "- [Plots the flash density of GLM](https://github.com/joaohenry23/GOES/blob/master/examples/v3.4/G16_GLM_FLASH_DENS_SR_plot.ipynb)\n",
    "- [Plots the accumulated energy of flashes of GLM](https://github.com/joaohenry23/GOES/blob/master/examples/v3.4/G16_GLM_FLASH_ENERGY_ACCUM_SR_plot.ipynb)\n",
    "- [Plots the average energy of flashes of GLM](https://github.com/joaohenry23/GOES/blob/master/examples/v3.4/G16_GLM_FLASH_ENERGY_AVERAGE_SR_plot.ipynb)\n",
    "<br><br>\n",
    "\n",
    "5- Save data\n",
    "- [Save GOES-16 IR channel subregion as Geotiff file](https://github.com/joaohenry23/GOES/blob/master/examples/v3.4/G16_IR__SR_to_Geotiff.ipynb)\n",
    "- [Save GOES-16 IR channel subregion as NetCDF file](https://github.com/joaohenry23/GOES/blob/master/examples/v3.4/G16_IR__SR_to_Netcdf.ipynb)"
   ]
  },
  {
   "cell_type": "code",
   "execution_count": null,
   "metadata": {},
   "outputs": [],
   "source": []
  }
 ],
 "metadata": {
  "kernelspec": {
   "display_name": "Python 3",
   "language": "python",
   "name": "python3"
  },
  "language_info": {
   "codemirror_mode": {
    "name": "ipython",
    "version": 3
   },
   "file_extension": ".py",
   "mimetype": "text/x-python",
   "name": "python",
   "nbconvert_exporter": "python",
   "pygments_lexer": "ipython3",
   "version": "3.6.11"
  }
 },
 "nbformat": 4,
 "nbformat_minor": 4
}

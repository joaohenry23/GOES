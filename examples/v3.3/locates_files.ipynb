{
 "cells": [
  {
   "cell_type": "markdown",
   "metadata": {},
   "source": [
    "# Locates files\n",
    "This jupyter notebook shows how to find GOES-16/17 files using the **locate_files** function of **GOES** package. This function only needs the path where the file is located, part of the file name, and the date and time of the file. The following examples show how to finds files."
   ]
  },
  {
   "cell_type": "markdown",
   "metadata": {},
   "source": [
    "Index:\n",
    "- [Usage of locate_files function](#usage)\n",
    "- [Locates ABI files](#locates_ABI_files)\n",
    "- [Locates GLM files](#locates_GLM_files)\n",
    "- [Locates ABI derived product files](#locates_ABI_derived_product_files)"
   ]
  },
  {
   "cell_type": "markdown",
   "metadata": {},
   "source": [
    "<a id='usage'></a>\n",
    "## Usage of locate_files function"
   ]
  },
  {
   "cell_type": "markdown",
   "metadata": {},
   "source": [
    "Import the GOES package."
   ]
  },
  {
   "cell_type": "code",
   "execution_count": 1,
   "metadata": {},
   "outputs": [],
   "source": [
    "import GOES"
   ]
  },
  {
   "cell_type": "markdown",
   "metadata": {},
   "source": [
    "The **locate_files** function needs the path where the file is located, part of the file name, and the date and time of the file. Use the **help** functions to know more about **locate_files** function."
   ]
  },
  {
   "cell_type": "code",
   "execution_count": 2,
   "metadata": {},
   "outputs": [
    {
     "name": "stdout",
     "output_type": "stream",
     "text": [
      "Help on function locate_files in module GOES.processing.processing_data:\n",
      "\n",
      "locate_files(path, prefix, datetime_ini, datetime_fin, use_parameter='scan_start_time')\n",
      "    It locates GOES-16/17 files between initial and final date time.\n",
      "    \n",
      "    Parameters\n",
      "    ----------\n",
      "    path : str\n",
      "        path of files \n",
      "    \n",
      "    prefix : str\n",
      "        Prefix name used to search files\n",
      "    \n",
      "    datetime_ini : str or datetime\n",
      "        Initial date time used to search files.\n",
      "        If it is string should have this format 'YYYYmmdd-HHMMSS'\n",
      "    \n",
      "    datetime_fin : str or datetime\n",
      "        Final date time used to search files.\n",
      "        If it is string should have this format 'YYYYmmdd-HHMMSS'\n",
      "    \n",
      "    use_parameter : str, optional, default 'scan_start_time'\n",
      "        If use_parameter='scan_start_time', then locate files using as\n",
      "        condition the scan start time of files.\n",
      "        If use_parameter='scan_end_time', then locate files using as\n",
      "        condition the scan end time of files.\n",
      "        If use_parameter='both', then locate files using as condition\n",
      "        the scan start time and the scan end time of files.\n",
      "    \n",
      "    \n",
      "    Returns\n",
      "    -------\n",
      "    return list with name of files.\n",
      "\n"
     ]
    }
   ],
   "source": [
    "help(GOES.locate_files)"
   ]
  },
  {
   "cell_type": "markdown",
   "metadata": {},
   "source": [
    "<a id='locates_ABI_files'></a>\n",
    "### Locates ABI files"
   ]
  },
  {
   "cell_type": "code",
   "execution_count": 3,
   "metadata": {},
   "outputs": [
    {
     "name": "stdout",
     "output_type": "stream",
     "text": [
      "/home/joao/Downloads/GOES-16/ABI/OR_ABI-L2-CMIPF-M6C13_G16_s20200782000176_e20200782009496_c20200782010003.nc\n",
      "/home/joao/Downloads/GOES-16/ABI/OR_ABI-L2-CMIPF-M6C13_G16_s20200782020176_e20200782029496_c20200782029589.nc\n",
      "/home/joao/Downloads/GOES-16/ABI/OR_ABI-L2-CMIPF-M6C13_G16_s20200782030176_e20200782039496_c20200782039595.nc\n",
      "/home/joao/Downloads/GOES-16/ABI/OR_ABI-L2-CMIPF-M6C13_G16_s20200782050176_e20200782059496_c20200782059589.nc\n"
     ]
    }
   ],
   "source": [
    "\n",
    "\n",
    "flist = GOES.locate_files('/home/joao/Downloads/GOES-16/ABI/',\n",
    "                          'OR_ABI-L2-CMIPF-M*C13_G16*.nc', '20200318-200000', '20200318-210000')\n",
    "print('\\n'.join(flist))"
   ]
  },
  {
   "cell_type": "markdown",
   "metadata": {},
   "source": [
    "If you want to use only one file you can select it using the position index of file inside **flist**. In this case I going to select the *third* file, which position index is *2*."
   ]
  },
  {
   "cell_type": "code",
   "execution_count": 4,
   "metadata": {},
   "outputs": [
    {
     "name": "stdout",
     "output_type": "stream",
     "text": [
      "/home/joao/Downloads/GOES-16/ABI/OR_ABI-L2-CMIPF-M6C13_G16_s20200782030176_e20200782039496_c20200782039595.nc\n"
     ]
    }
   ],
   "source": [
    "file = flist[2]\n",
    "print(file)"
   ]
  },
  {
   "cell_type": "markdown",
   "metadata": {},
   "source": [
    "<a id='locates_GLM_files'></a>\n",
    "### Locates GLM files"
   ]
  },
  {
   "cell_type": "code",
   "execution_count": 5,
   "metadata": {},
   "outputs": [
    {
     "name": "stdout",
     "output_type": "stream",
     "text": [
      "/home/joao/Downloads/GOES-16/GLM/OR_GLM-L2-LCFA_G16_s20202932330000_e20202932330200_c20202932330229.nc\n",
      "/home/joao/Downloads/GOES-16/GLM/OR_GLM-L2-LCFA_G16_s20202932330200_e20202932330400_c20202932330426.nc\n",
      "/home/joao/Downloads/GOES-16/GLM/OR_GLM-L2-LCFA_G16_s20202932330400_e20202932331000_c20202932331027.nc\n",
      "/home/joao/Downloads/GOES-16/GLM/OR_GLM-L2-LCFA_G16_s20202932331000_e20202932331200_c20202932331226.nc\n",
      "/home/joao/Downloads/GOES-16/GLM/OR_GLM-L2-LCFA_G16_s20202932331200_e20202932331400_c20202932331430.nc\n",
      "/home/joao/Downloads/GOES-16/GLM/OR_GLM-L2-LCFA_G16_s20202932331400_e20202932332000_c20202932332028.nc\n"
     ]
    }
   ],
   "source": [
    "import GOES\n",
    "\n",
    "flist=GOES.locate_files('/home/joao/Downloads/GOES-16/GLM/',\n",
    "                        'OR_GLM-L2-LCFA_G16_*.nc', '20201019-233000', '20201019-233200')\n",
    "print('\\n'.join(flist))"
   ]
  },
  {
   "cell_type": "markdown",
   "metadata": {},
   "source": [
    "If you want to use only one file you can select it using the position index of file inside flist. In this case I going to select the *first* file, which position index is *0*."
   ]
  },
  {
   "cell_type": "code",
   "execution_count": 6,
   "metadata": {},
   "outputs": [
    {
     "name": "stdout",
     "output_type": "stream",
     "text": [
      "/home/joao/Downloads/GOES-16/GLM/OR_GLM-L2-LCFA_G16_s20202932330000_e20202932330200_c20202932330229.nc\n"
     ]
    }
   ],
   "source": [
    "file = flist[0]\n",
    "print(file)"
   ]
  },
  {
   "cell_type": "markdown",
   "metadata": {},
   "source": [
    "<a id='locates_ABI_derived_product_files'></a>\n",
    "### Locates ABI derived product files"
   ]
  },
  {
   "cell_type": "code",
   "execution_count": 7,
   "metadata": {},
   "outputs": [
    {
     "name": "stdout",
     "output_type": "stream",
     "text": [
      "/home/joao/Downloads/GOES-16/Products/OR_ABI-L2-RRQPEF-M6_G16_s20200781930176_e20200781939484_c20200781940005.nc\n",
      "/home/joao/Downloads/GOES-16/Products/OR_ABI-L2-RRQPEF-M6_G16_s20200781940176_e20200781949484_c20200781949587.nc\n",
      "/home/joao/Downloads/GOES-16/Products/OR_ABI-L2-RRQPEF-M6_G16_s20200781950176_e20200781959484_c20200781959589.nc\n",
      "/home/joao/Downloads/GOES-16/Products/OR_ABI-L2-RRQPEF-M6_G16_s20200782000176_e20200782009484_c20200782009583.nc\n",
      "/home/joao/Downloads/GOES-16/Products/OR_ABI-L2-RRQPEF-M6_G16_s20200782010176_e20200782019484_c20200782020012.nc\n"
     ]
    }
   ],
   "source": [
    "import GOES\n",
    "\n",
    "flist=GOES.locate_files('/home/joao/Downloads/GOES-16/Products/',\n",
    "                        'OR_ABI-L2-RRQPEF-M*_G16_*.nc', '20200318-193000', '20200318-202000')\n",
    "print('\\n'.join(flist))"
   ]
  },
  {
   "cell_type": "markdown",
   "metadata": {},
   "source": [
    "If you want to use only one file you can select it using the position index of file inside flist. In this case I going to select the *fourth* file, which position index is *3*."
   ]
  },
  {
   "cell_type": "code",
   "execution_count": 8,
   "metadata": {},
   "outputs": [
    {
     "name": "stdout",
     "output_type": "stream",
     "text": [
      "/home/joao/Downloads/GOES-16/Products/OR_ABI-L2-RRQPEF-M6_G16_s20200782000176_e20200782009484_c20200782009583.nc\n"
     ]
    }
   ],
   "source": [
    "file = flist[3]\n",
    "print(file)"
   ]
  }
 ],
 "metadata": {
  "kernelspec": {
   "display_name": "Python 3",
   "language": "python",
   "name": "python3"
  },
  "language_info": {
   "codemirror_mode": {
    "name": "ipython",
    "version": 3
   },
   "file_extension": ".py",
   "mimetype": "text/x-python",
   "name": "python",
   "nbconvert_exporter": "python",
   "pygments_lexer": "ipython3",
   "version": "3.6.11"
  }
 },
 "nbformat": 4,
 "nbformat_minor": 4
}

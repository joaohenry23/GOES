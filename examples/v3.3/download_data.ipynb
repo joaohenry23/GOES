{
 "cells": [
  {
   "cell_type": "markdown",
   "metadata": {},
   "source": [
    "# Download GOES-16 and GOES-17 files\n",
    "This jupyter notebook shows how to download data from GOES-16/17 using the GOES package."
   ]
  },
  {
   "cell_type": "markdown",
   "metadata": {},
   "source": [
    "Index:\n",
    "- [Usage of GOES](https://github.com/joaohenry23/GOES/blob/master/examples/v3.3/download_data.ipynb#Usage-of-GOES)\n",
    "- [Download ABI's channels](#donwload_abi_channels)\n",
    "    - [Download Level 2 ABI data (one channel) of GOES-16](#download_L2_ABI_one_channel_g16)\n",
    "    - [Download Level 2 ABI data (multiple channels) of GOES-16](#download_L2_ABI_multiple_channels_g16)\n",
    "    - [Download Level 2 ABI data (multiple channels) of GOES-17](#download_L2_ABI_multiple_channels_g17)\n",
    "    - [Download Level 1b ABI data](#download_L1b_ABI)\n",
    "    - [Download ABI data with a CONUS domain](#download_ABI_conus)\n",
    "    - [Download ABI data with a Mesoscale domain](#download_ABI_mesoscale)\n",
    "- [Download Level-2 products derived from ABI](#download_ABI_product)\n",
    "- [Download GLM data](#download_glm)\n",
    "- [Rename downloaded file](#rename_download_file)"
   ]
  },
  {
   "cell_type": "markdown",
   "metadata": {},
   "source": [
    "<a id='Usage-of-GOES'></a>\n",
    "Usage of GOES"
   ]
  },
  {
   "cell_type": "markdown",
   "metadata": {},
   "source": [
    "Import the GOES package."
   ]
  },
  {
   "cell_type": "code",
   "execution_count": 1,
   "metadata": {},
   "outputs": [],
   "source": [
    "import GOES"
   ]
  },
  {
   "cell_type": "markdown",
   "metadata": {},
   "source": [
    "The function that allows download data is **GOES.download()**. Use the *help* function to get more information about **GOES.download()**."
   ]
  },
  {
   "cell_type": "code",
   "execution_count": 2,
   "metadata": {},
   "outputs": [
    {
     "name": "stdout",
     "output_type": "stream",
     "text": [
      "Help on function download in module GOES.downloads.download_data:\n",
      "\n",
      "download(Satellite, Product, DateTimeIni=None, DateTimeFin=None, domain=None, channel=None, rename_fmt=False, path_out='', retries=10, backoff=10, size_format='Decimal', show_download_progress=True)\n",
      "    Download data of GOES-16 and GOES-17 from Amazon server.\n",
      "    This function is based on the code of\n",
      "    blaylockbk https://gist.github.com/blaylockbk/d60f4fce15a7f0475f975fc57da9104d\n",
      "    \n",
      "    \n",
      "    Parameters\n",
      "    ----------\n",
      "    Satellite : str\n",
      "        Indicates serie of GOES, the options are 'goes16' and 'goes17'\n",
      "    \n",
      "    \n",
      "    Product : str\n",
      "        Indicates the instrument and level of product. The products\n",
      "        can be list using: GOES.show_products()\n",
      "    \n",
      "    \n",
      "    DateTimeIni : str\n",
      "        String that indicates the initial datetime. Its structure\n",
      "        must be yyyymmdd-HHMMSS\n",
      "        Example:\n",
      "            DateTimeIni='20180520-183000'\n",
      "    \n",
      "    \n",
      "    DateTimeFin : str\n",
      "        String that indicates the final datetime. Its structure\n",
      "        must be yyyymmdd-HHMMSS\n",
      "        Example:\n",
      "            DateTimeFin='20180520-183000'\n",
      "    \n",
      "    \n",
      "    domain : str\n",
      "        This parameter just is necessary with Mesoescale products.\n",
      "        The options are:\n",
      "            M1 : Mesoscale 1\n",
      "            M2 : Mesoscale 2\n",
      "    \n",
      "    \n",
      "    channel : list\n",
      "        This parameter just is necessary with ABI-L1b-Rad and ABI-L2-CMIP products.\n",
      "        List indicates the channel or channels that will be download.\n",
      "        The channels can be mentioned individually as elements of the list\n",
      "        or as a sequence of channels separated by a hyphen ('-').\n",
      "        Example:\n",
      "            channel = ['02','08','09','10','11','13']\n",
      "            channel = ['02','08-11','13']\n",
      "    \n",
      "    \n",
      "    rename_fmt : bool or str, optional, default False\n",
      "        Is an optional parameter and its default value is rename_fmt=False which\n",
      "        indicates that the file name is kept. If would you like that the file name\n",
      "        just keep the start time of scan you have to define the format of datetime.\n",
      "        See the next link to know about datetime format:\n",
      "        https://docs.python.org/3/library/datetime.html#strftime-and-strptime-format-codes).\n",
      "        Example:\n",
      "            rename_fmt = '%Y%m%d%H%M%S'\n",
      "            rename_fmt = '%Y%m%d%H%M'\n",
      "            rename_fmt = '%Y%j%H%M'\n",
      "    \n",
      "    \n",
      "    path_out : str, optional, default ''\n",
      "        Optional string that indicates the folder where data will be download.\n",
      "        The default value is folder where python was open.\n",
      "    \n",
      "    \n",
      "    retries: int, optional, default 10\n",
      "        Defines the retries number to connect to server.\n",
      "        See: https://urllib3.readthedocs.io/en/latest/reference/urllib3.util.html#module-urllib3.util.retry\n",
      "    \n",
      "    backoff: int, optional, default 10\n",
      "        A backoff factor to apply between attempts after the second try.\n",
      "        See: https://urllib3.readthedocs.io/en/latest/reference/urllib3.util.html#module-urllib3.util.retry\n",
      "    \n",
      "    \n",
      "    size_format: str, optional, default 'Decimal'\n",
      "        It defines how is print the size of file.\n",
      "        Options are:\n",
      "            'Decimal' : divide file size (in bytes) by (1000*1000) \n",
      "            'Binary' : divide file size (in bytes) by (1024*1024)\n",
      "    \n",
      "    show_download_progress : bool, optional, default True\n",
      "        Parameter to enable and disable the visualization of download progress.\n",
      "    \n",
      "    Return\n",
      "    ------\n",
      "    Download_files : list\n",
      "        List with the downloaded files (path+filename).\n",
      "\n"
     ]
    }
   ],
   "source": [
    "help(GOES.download)"
   ]
  },
  {
   "cell_type": "markdown",
   "metadata": {},
   "source": [
    "Get a list with products of GOES-16/17 available on Amazon server writing the follow:"
   ]
  },
  {
   "cell_type": "code",
   "execution_count": 3,
   "metadata": {},
   "outputs": [
    {
     "name": "stdout",
     "output_type": "stream",
     "text": [
      " \n",
      "Products for goes16:\n",
      "\tABI-L1b-RadC\n",
      "\tABI-L1b-RadF\n",
      "\tABI-L1b-RadM\n",
      "\tABI-L2-ACHAC\n",
      "\tABI-L2-ACHAF\n",
      "\tABI-L2-ACHAM\n",
      "\tABI-L2-ACHTF\n",
      "\tABI-L2-ACHTM\n",
      "\tABI-L2-ACMC\n",
      "\tABI-L2-ACMF\n",
      "\tABI-L2-ACMM\n",
      "\tABI-L2-ACTPC\n",
      "\tABI-L2-ACTPF\n",
      "\tABI-L2-ACTPM\n",
      "\tABI-L2-ADPC\n",
      "\tABI-L2-ADPF\n",
      "\tABI-L2-ADPM\n",
      "\tABI-L2-AODC\n",
      "\tABI-L2-AODF\n",
      "\tABI-L2-CMIPC\n",
      "\tABI-L2-CMIPF\n",
      "\tABI-L2-CMIPM\n",
      "\tABI-L2-CODC\n",
      "\tABI-L2-CODF\n",
      "\tABI-L2-CPSC\n",
      "\tABI-L2-CPSF\n",
      "\tABI-L2-CPSM\n",
      "\tABI-L2-CTPC\n",
      "\tABI-L2-CTPF\n",
      "\tABI-L2-DMWC\n",
      "\tABI-L2-DMWF\n",
      "\tABI-L2-DMWM\n",
      "\tABI-L2-DSIC\n",
      "\tABI-L2-DSIF\n",
      "\tABI-L2-DSIM\n",
      "\tABI-L2-DSRC\n",
      "\tABI-L2-DSRF\n",
      "\tABI-L2-DSRM\n",
      "\tABI-L2-FDCC\n",
      "\tABI-L2-FDCF\n",
      "\tABI-L2-LSTC\n",
      "\tABI-L2-LSTF\n",
      "\tABI-L2-LSTM\n",
      "\tABI-L2-LVMPC\n",
      "\tABI-L2-LVMPF\n",
      "\tABI-L2-LVMPM\n",
      "\tABI-L2-LVTPC\n",
      "\tABI-L2-LVTPF\n",
      "\tABI-L2-LVTPM\n",
      "\tABI-L2-MCMIPC\n",
      "\tABI-L2-MCMIPF\n",
      "\tABI-L2-MCMIPM\n",
      "\tABI-L2-RRQPEF\n",
      "\tABI-L2-RSRC\n",
      "\tABI-L2-RSRF\n",
      "\tABI-L2-SSTF\n",
      "\tABI-L2-TPWC\n",
      "\tABI-L2-TPWF\n",
      "\tABI-L2-TPWM\n",
      "\tABI-L2-VAAF\n",
      "\tGLM-L2-LCFA\n",
      "\tSUVI-L1b-Fe093\n",
      "\tSUVI-L1b-Fe131\n",
      "\tSUVI-L1b-Fe171\n",
      "\tSUVI-L1b-Fe195\n",
      "\tSUVI-L1b-Fe284\n",
      "\tSUVI-L1b-He303\n",
      " \n",
      "Products for goes17:\n",
      "\tABI-L1b-RadC\n",
      "\tABI-L1b-RadF\n",
      "\tABI-L1b-RadM\n",
      "\tABI-L2-ACHAC\n",
      "\tABI-L2-ACHAF\n",
      "\tABI-L2-ACHAM\n",
      "\tABI-L2-ACHTF\n",
      "\tABI-L2-ACHTM\n",
      "\tABI-L2-ACMC\n",
      "\tABI-L2-ACMF\n",
      "\tABI-L2-ACMM\n",
      "\tABI-L2-ACTPC\n",
      "\tABI-L2-ACTPF\n",
      "\tABI-L2-ACTPM\n",
      "\tABI-L2-ADPC\n",
      "\tABI-L2-ADPF\n",
      "\tABI-L2-ADPM\n",
      "\tABI-L2-AODC\n",
      "\tABI-L2-AODF\n",
      "\tABI-L2-CMIPC\n",
      "\tABI-L2-CMIPF\n",
      "\tABI-L2-CMIPM\n",
      "\tABI-L2-CODC\n",
      "\tABI-L2-CODF\n",
      "\tABI-L2-CPSC\n",
      "\tABI-L2-CPSF\n",
      "\tABI-L2-CPSM\n",
      "\tABI-L2-CTPC\n",
      "\tABI-L2-CTPF\n",
      "\tABI-L2-DMWC\n",
      "\tABI-L2-DMWF\n",
      "\tABI-L2-DMWM\n",
      "\tABI-L2-DSIC\n",
      "\tABI-L2-DSIF\n",
      "\tABI-L2-DSIM\n",
      "\tABI-L2-DSRC\n",
      "\tABI-L2-DSRF\n",
      "\tABI-L2-DSRM\n",
      "\tABI-L2-FDCC\n",
      "\tABI-L2-FDCF\n",
      "\tABI-L2-LSTC\n",
      "\tABI-L2-LSTF\n",
      "\tABI-L2-LSTM\n",
      "\tABI-L2-LVMPC\n",
      "\tABI-L2-LVMPF\n",
      "\tABI-L2-LVMPM\n",
      "\tABI-L2-LVTPC\n",
      "\tABI-L2-LVTPF\n",
      "\tABI-L2-LVTPM\n",
      "\tABI-L2-MCMIPC\n",
      "\tABI-L2-MCMIPF\n",
      "\tABI-L2-MCMIPM\n",
      "\tABI-L2-RRQPEF\n",
      "\tABI-L2-RSRC\n",
      "\tABI-L2-RSRF\n",
      "\tABI-L2-SSTF\n",
      "\tABI-L2-TPWC\n",
      "\tABI-L2-TPWF\n",
      "\tABI-L2-TPWM\n",
      "\tABI-L2-VAAF\n",
      "\tGLM-L2-LCFA\n",
      "\tSUVI-L1b-Fe093\n",
      "\tSUVI-L1b-Fe13\n",
      "\tSUVI-L1b-Fe131\n",
      "\tSUVI-L1b-Fe17\n",
      "\tSUVI-L1b-Fe171\n",
      "\tSUVI-L1b-Fe195\n",
      "\tSUVI-L1b-Fe284\n",
      "\tSUVI-L1b-He303\n",
      " \n",
      "Descriptions of each product is shown in https://docs.opendata.aws/noaa-goes16/cics-readme.html#about-the-data \n",
      "\n"
     ]
    }
   ],
   "source": [
    "GOES.show_products()"
   ]
  },
  {
   "cell_type": "markdown",
   "metadata": {},
   "source": [
    "<a id='donwload_abi_channels'></a>\n",
    "## Download ABI's Channels"
   ]
  },
  {
   "cell_type": "markdown",
   "metadata": {},
   "source": [
    "<a id='download_L2_ABI_one_channel_g16'></a>\n",
    "### Download Level 2 ABI data (one channel) of GOES-16\n",
    "In this example we will download one ABI's channel from *the Advanced Baseline Imager Level 2 Cloud and Moisture Imagery Full Disk* (**ABI-L2-CMIPF**) product of **GOES-16**."
   ]
  },
  {
   "cell_type": "code",
   "execution_count": 4,
   "metadata": {},
   "outputs": [
    {
     "name": "stdout",
     "output_type": "stream",
     "text": [
      "Files:\n",
      "  OR_ABI-L2-CMIPF-M6C13_G16_s20200802030177_e20200802039497_c20200802039590.nc 100% 27.0MB 17s\n",
      "  OR_ABI-L2-CMIPF-M6C13_G16_s20200802040177_e20200802049497_c20200802049583.nc 100% 27.0MB 13s\n",
      "  OR_ABI-L2-CMIPF-M6C13_G16_s20200802050177_e20200802059497_c20200802059576.nc 100% 27.0MB 11s\n"
     ]
    },
    {
     "data": {
      "text/plain": [
       "['/home/joao/Downloads/OR_ABI-L2-CMIPF-M6C13_G16_s20200802030177_e20200802039497_c20200802039590.nc',\n",
       " '/home/joao/Downloads/OR_ABI-L2-CMIPF-M6C13_G16_s20200802040177_e20200802049497_c20200802049583.nc',\n",
       " '/home/joao/Downloads/OR_ABI-L2-CMIPF-M6C13_G16_s20200802050177_e20200802059497_c20200802059576.nc']"
      ]
     },
     "execution_count": 4,
     "metadata": {},
     "output_type": "execute_result"
    }
   ],
   "source": [
    "GOES.download('goes16', 'ABI-L2-CMIPF',\n",
    "             DateTimeIni = '20200320-203000', DateTimeFin = '20200320-210000', \n",
    "             channel = ['13'], path_out='/home/joao/Downloads/')"
   ]
  },
  {
   "cell_type": "markdown",
   "metadata": {},
   "source": [
    "Keep in mind that the start scan time that appear in the filename is considered as a the date and time of file."
   ]
  },
  {
   "cell_type": "markdown",
   "metadata": {},
   "source": [
    "In the last example was request the download of files between  **20200320-203000** and **20200320-210000**, however no file from 21 hours was downloaded, this is because sometimes the files have a date and time with some seconds later to DateTimeFin. In this cases is recomended add one minute to the DateTimeFin to ensure that download include files from this date and time. See the follow example:"
   ]
  },
  {
   "cell_type": "code",
   "execution_count": 5,
   "metadata": {},
   "outputs": [
    {
     "name": "stdout",
     "output_type": "stream",
     "text": [
      "Files:\n",
      "  OR_ABI-L2-CMIPF-M6C13_G16_s20200802030177_e20200802039497_c20200802039590.nc 100% 27.0MB 34s\n",
      "  OR_ABI-L2-CMIPF-M6C13_G16_s20200802040177_e20200802049497_c20200802049583.nc 100% 27.0MB 17s\n",
      "  OR_ABI-L2-CMIPF-M6C13_G16_s20200802050177_e20200802059497_c20200802059576.nc 100% 27.0MB 27s\n",
      "  OR_ABI-L2-CMIPF-M6C13_G16_s20200802100177_e20200802109497_c20200802109572.nc 100% 27.0MB 15s\n"
     ]
    },
    {
     "data": {
      "text/plain": [
       "['/home/joao/Downloads/OR_ABI-L2-CMIPF-M6C13_G16_s20200802030177_e20200802039497_c20200802039590.nc',\n",
       " '/home/joao/Downloads/OR_ABI-L2-CMIPF-M6C13_G16_s20200802040177_e20200802049497_c20200802049583.nc',\n",
       " '/home/joao/Downloads/OR_ABI-L2-CMIPF-M6C13_G16_s20200802050177_e20200802059497_c20200802059576.nc',\n",
       " '/home/joao/Downloads/OR_ABI-L2-CMIPF-M6C13_G16_s20200802100177_e20200802109497_c20200802109572.nc']"
      ]
     },
     "execution_count": 5,
     "metadata": {},
     "output_type": "execute_result"
    }
   ],
   "source": [
    "GOES.download('goes16', 'ABI-L2-CMIPF',\n",
    "              DateTimeIni = '20200320-203000', DateTimeFin = '20200320-210100', \n",
    "              channel = ['13'], path_out='/home/joao/Downloads/')"
   ]
  },
  {
   "cell_type": "markdown",
   "metadata": {},
   "source": [
    "When download finished, the function return the name and the path where file was download. If you wish, you can save this information in a variable to you will use it after."
   ]
  },
  {
   "cell_type": "code",
   "execution_count": 6,
   "metadata": {},
   "outputs": [
    {
     "name": "stdout",
     "output_type": "stream",
     "text": [
      "Files:\n",
      "  OR_ABI-L2-CMIPF-M6C13_G16_s20200802030177_e20200802039497_c20200802039590.nc 100% 27.0MB 27s\n",
      "  OR_ABI-L2-CMIPF-M6C13_G16_s20200802040177_e20200802049497_c20200802049583.nc 100% 27.0MB 12s\n",
      "  OR_ABI-L2-CMIPF-M6C13_G16_s20200802050177_e20200802059497_c20200802059576.nc 100% 27.0MB 18s\n",
      "  OR_ABI-L2-CMIPF-M6C13_G16_s20200802100177_e20200802109497_c20200802109572.nc 100% 27.0MB 11s\n"
     ]
    }
   ],
   "source": [
    "flist = GOES.download('goes16', 'ABI-L2-CMIPF',\n",
    "                      DateTimeIni = '20200320-203000', DateTimeFin = '20200320-210100', \n",
    "                      channel = ['13'], path_out='/home/joao/Downloads/')"
   ]
  },
  {
   "cell_type": "markdown",
   "metadata": {},
   "source": [
    "<a id='download_L2_ABI_multiple_channels_g16'></a>\n",
    "### Download Level 2 ABI data (multiple channels) of GOES-16\n",
    "In the following example is shown how to download multiple ABI's channels from *the Advanced Baseline Imager Level 2 Cloud and Moisture Imagery Full Disk* (**ABI-L2-CMIPF**) product of **GOES-16**."
   ]
  },
  {
   "cell_type": "code",
   "execution_count": 7,
   "metadata": {},
   "outputs": [
    {
     "name": "stdout",
     "output_type": "stream",
     "text": [
      "Files:\n",
      "  OR_ABI-L2-CMIPF-M6C08_G16_s20200802030177_e20200802039485_c20200802039575.nc 100% 19.7MB 12s\n",
      "  OR_ABI-L2-CMIPF-M6C08_G16_s20200802040177_e20200802049485_c20200802049572.nc 100% 19.7MB 9s\n",
      "  OR_ABI-L2-CMIPF-M6C08_G16_s20200802050177_e20200802059485_c20200802059566.nc 100% 19.7MB 12s\n",
      "  OR_ABI-L2-CMIPF-M6C09_G16_s20200802030177_e20200802039491_c20200802039586.nc 100% 18.6MB 14s\n",
      "  OR_ABI-L2-CMIPF-M6C09_G16_s20200802040177_e20200802049491_c20200802049579.nc 100% 18.6MB 6s\n",
      "  OR_ABI-L2-CMIPF-M6C09_G16_s20200802050177_e20200802059491_c20200802059574.nc 100% 18.6MB 8s\n",
      "  OR_ABI-L2-CMIPF-M6C10_G16_s20200802030177_e20200802039497_c20200802039585.nc 100% 21.9MB 15s\n",
      "  OR_ABI-L2-CMIPF-M6C10_G16_s20200802040177_e20200802049497_c20200802049578.nc 100% 21.9MB 16s\n",
      "  OR_ABI-L2-CMIPF-M6C10_G16_s20200802050177_e20200802059497_c20200802059589.nc 100% 21.9MB 13s\n",
      "  OR_ABI-L2-CMIPF-M6C13_G16_s20200802030177_e20200802039497_c20200802039590.nc 100% 27.0MB 19s\n",
      "  OR_ABI-L2-CMIPF-M6C13_G16_s20200802040177_e20200802049497_c20200802049583.nc 100% 27.0MB 18s\n",
      "  OR_ABI-L2-CMIPF-M6C13_G16_s20200802050177_e20200802059497_c20200802059576.nc 100% 27.0MB 16s\n",
      "  OR_ABI-L2-CMIPF-M6C14_G16_s20200802030177_e20200802039485_c20200802039592.nc 100% 27.1MB 10s\n",
      "  OR_ABI-L2-CMIPF-M6C14_G16_s20200802040177_e20200802049485_c20200802049590.nc 100% 27.1MB 15s\n",
      "  OR_ABI-L2-CMIPF-M6C14_G16_s20200802050177_e20200802059485_c20200802059592.nc 100% 27.1MB 13s\n"
     ]
    }
   ],
   "source": [
    "flist = GOES.download('goes16', 'ABI-L2-CMIPF',\n",
    "                      DateTimeIni = '20200320-203000', DateTimeFin = '20200320-205100', \n",
    "                      channel = ['08-10','13','14'], path_out='/home/joao/Downloads/')"
   ]
  },
  {
   "cell_type": "markdown",
   "metadata": {},
   "source": [
    "<a id='download_L2_ABI_multiple_channels_g17'></a>\n",
    "### Download Level 2 ABI data (multiple channels) of GOES-17\n",
    "In the following example we will download multiple ABI's channels from *the Advanced Baseline Imager Level 2 Cloud and Moisture Imagery Full Disk* (**ABI-L2-CMIPF**) product of **GOES-17**."
   ]
  },
  {
   "cell_type": "code",
   "execution_count": 8,
   "metadata": {},
   "outputs": [
    {
     "name": "stdout",
     "output_type": "stream",
     "text": [
      "Files:\n",
      "  OR_ABI-L2-CMIPF-M6C08_G17_s20200802030321_e20200802039388_c20200802039456.nc 100% 20.5MB 7s\n",
      "  OR_ABI-L2-CMIPF-M6C08_G17_s20200802040321_e20200802049388_c20200802049451.nc 100% 20.5MB 8s\n",
      "  OR_ABI-L2-CMIPF-M6C08_G17_s20200802050321_e20200802059388_c20200802059457.nc 100% 20.5MB 7s\n",
      "  OR_ABI-L2-CMIPF-M6C09_G17_s20200802030321_e20200802039393_c20200802039452.nc 100% 19.0MB 8s\n",
      "  OR_ABI-L2-CMIPF-M6C09_G17_s20200802040321_e20200802049393_c20200802049473.nc 100% 19.0MB 10s\n",
      "  OR_ABI-L2-CMIPF-M6C09_G17_s20200802050321_e20200802059393_c20200802059447.nc 100% 19.0MB 16s\n",
      "  OR_ABI-L2-CMIPF-M6C10_G17_s20200802030321_e20200802039399_c20200802039454.nc 100% 22.6MB 9s\n",
      "  OR_ABI-L2-CMIPF-M6C10_G17_s20200802040321_e20200802049399_c20200802049453.nc 100% 22.6MB 11s\n",
      "  OR_ABI-L2-CMIPF-M6C10_G17_s20200802050321_e20200802059399_c20200802059458.nc 100% 22.6MB 9s\n",
      "  OR_ABI-L2-CMIPF-M6C13_G17_s20200802030321_e20200802039399_c20200802039457.nc 100% 26.8MB 14s\n",
      "  OR_ABI-L2-CMIPF-M6C13_G17_s20200802040321_e20200802049399_c20200802049460.nc 100% 26.8MB 13s\n",
      "  OR_ABI-L2-CMIPF-M6C13_G17_s20200802050321_e20200802059399_c20200802059452.nc 100% 26.8MB 12s\n",
      "  OR_ABI-L2-CMIPF-M6C14_G17_s20200802030321_e20200802039388_c20200802039460.nc 100% 26.9MB 13s\n",
      "  OR_ABI-L2-CMIPF-M6C14_G17_s20200802040321_e20200802049388_c20200802049454.nc 100% 26.9MB 13s\n",
      "  OR_ABI-L2-CMIPF-M6C14_G17_s20200802050321_e20200802059388_c20200802059476.nc 100% 26.9MB 11s\n"
     ]
    }
   ],
   "source": [
    "flist = GOES.download('goes17', 'ABI-L2-CMIPF',\n",
    "                      DateTimeIni = '20200320-203000', DateTimeFin = '20200320-205100', \n",
    "                      channel = ['08-10','13','14'], path_out='/home/joao/Downloads/')"
   ]
  },
  {
   "cell_type": "markdown",
   "metadata": {},
   "source": [
    "<a id='download_L1b_ABI'></a>\n",
    "### Download Level 1b ABI data\n",
    "In this example we will download multiple ABI's channels from *Advanced Baseline Imager Level 1b Full Disk* (**ABI-L1b-RadF**) product of **GOES-16**."
   ]
  },
  {
   "cell_type": "code",
   "execution_count": 9,
   "metadata": {},
   "outputs": [
    {
     "name": "stdout",
     "output_type": "stream",
     "text": [
      "Files:\n",
      "  OR_ABI-L1b-RadF-M6C10_G16_s20200802030177_e20200802039497_c20200802039560.nc 100% 22.7MB 8s\n",
      "  OR_ABI-L1b-RadF-M6C10_G16_s20200802040177_e20200802049497_c20200802049556.nc 100% 22.7MB 11s\n",
      "  OR_ABI-L1b-RadF-M6C10_G16_s20200802050177_e20200802059497_c20200802059577.nc 100% 22.7MB 8s\n",
      "  OR_ABI-L1b-RadF-M6C13_G16_s20200802030177_e20200802039497_c20200802039578.nc 100% 29.8MB 10s\n",
      "  OR_ABI-L1b-RadF-M6C13_G16_s20200802040177_e20200802049497_c20200802049570.nc 100% 29.8MB 12s\n",
      "  OR_ABI-L1b-RadF-M6C13_G16_s20200802050177_e20200802059497_c20200802059567.nc 100% 29.8MB 9s\n",
      "  OR_ABI-L1b-RadF-M6C14_G16_s20200802030177_e20200802039485_c20200802039583.nc 100% 29.8MB 13s\n",
      "  OR_ABI-L1b-RadF-M6C14_G16_s20200802040177_e20200802049485_c20200802049574.nc 100% 29.7MB 16s\n",
      "  OR_ABI-L1b-RadF-M6C14_G16_s20200802050177_e20200802059485_c20200802059581.nc 100% 29.7MB 11s\n"
     ]
    }
   ],
   "source": [
    "flist = GOES.download('goes16', 'ABI-L1b-RadF',\n",
    "                      DateTimeIni = '20200320-203000', DateTimeFin = '20200320-205100',\n",
    "                      channel = ['10','13','14'], path_out='/home/joao/Downloads/')"
   ]
  },
  {
   "cell_type": "markdown",
   "metadata": {},
   "source": [
    "<a id='download_ABI_conus'></a>\n",
    "### Download ABI data with a CONUS domain\n",
    "The previous examples showed how to download data with a Full Disk domain, however, this is not the only GOES-16/17 scan domain. In total, the GOES-16/17 scan domains are: Full Disk, CONUS, Mesoscale 1 and Mesoscale 2. The following example shows how to download channels from *Advanced Baseline Imager Level 2 Cloud and Moisture Imagery* ***CONUS*** (**ABI-L2-CMIPC**) product with a **CONUS** domain."
   ]
  },
  {
   "cell_type": "code",
   "execution_count": 10,
   "metadata": {},
   "outputs": [
    {
     "name": "stdout",
     "output_type": "stream",
     "text": [
      "Files:\n",
      "  OR_ABI-L2-CMIPC-M6C10_G16_s20200802031145_e20200802033529_c20200802034015.nc 100% 3.4MB 2s\n",
      "  OR_ABI-L2-CMIPC-M6C13_G16_s20200802031145_e20200802033529_c20200802034057.nc 100% 4.3MB 3s\n",
      "  OR_ABI-L2-CMIPC-M6C14_G16_s20200802031145_e20200802033518_c20200802034049.nc 100% 4.3MB 2s\n"
     ]
    }
   ],
   "source": [
    "flist = GOES.download('goes16', 'ABI-L2-CMIPC',\n",
    "                      DateTimeIni = '20200320-203000', DateTimeFin = '20200320-203500',\n",
    "                      channel = ['10','13','14'], path_out='/home/joao/Downloads/')"
   ]
  },
  {
   "cell_type": "markdown",
   "metadata": {},
   "source": [
    "<a id='download_ABI_mesoscale'></a>\n",
    "### Download ABI data with a Mesoscale domain\n",
    "To download mesoscale data it is necessary to specify if the domain is mesoscale 1 or mesoscale 2. To do this, we must use the **domain** parameter. The following example shows how to download channels from *Advanced Baseline Imager Level 2 Cloud and Moisture Imagery* ***Mesoscale*** (**ABI-L2-CMIPM**) product with a **mesoscale 1** domain."
   ]
  },
  {
   "cell_type": "code",
   "execution_count": 11,
   "metadata": {},
   "outputs": [
    {
     "name": "stdout",
     "output_type": "stream",
     "text": [
      "Files:\n",
      "  OR_ABI-L2-CMIPM1-M6C10_G16_s20200802030253_e20200802030322_c20200802030383.nc 100% 0.3MB 0s\n",
      "  OR_ABI-L2-CMIPM1-M6C10_G16_s20200802031224_e20200802031292_c20200802031338.nc 100% 0.3MB 1s\n",
      "  OR_ABI-L2-CMIPM1-M6C10_G16_s20200802032224_e20200802032293_c20200802032333.nc 100% 0.3MB 0s\n",
      "  OR_ABI-L2-CMIPM1-M6C10_G16_s20200802033224_e20200802033293_c20200802033341.nc 100% 0.3MB 1s\n",
      "  OR_ABI-L2-CMIPM1-M6C10_G16_s20200802034224_e20200802034293_c20200802034343.nc 100% 0.3MB 1s\n",
      "  OR_ABI-L2-CMIPM1-M6C13_G16_s20200802030253_e20200802030321_c20200802030400.nc 100% 0.4MB 1s\n",
      "  OR_ABI-L2-CMIPM1-M6C13_G16_s20200802031224_e20200802031293_c20200802031358.nc 100% 0.4MB 1s\n",
      "  OR_ABI-L2-CMIPM1-M6C13_G16_s20200802032224_e20200802032293_c20200802032371.nc 100% 0.4MB 0s\n",
      "  OR_ABI-L2-CMIPM1-M6C13_G16_s20200802033224_e20200802033293_c20200802033359.nc 100% 0.4MB 1s\n",
      "  OR_ABI-L2-CMIPM1-M6C13_G16_s20200802034224_e20200802034293_c20200802034360.nc 100% 0.4MB 1s\n",
      "  OR_ABI-L2-CMIPM1-M6C14_G16_s20200802030253_e20200802030310_c20200802030401.nc 100% 0.4MB 0s\n",
      "  OR_ABI-L2-CMIPM1-M6C14_G16_s20200802031224_e20200802031281_c20200802031356.nc 100% 0.4MB 0s\n",
      "  OR_ABI-L2-CMIPM1-M6C14_G16_s20200802032224_e20200802032281_c20200802032361.nc 100% 0.4MB 0s\n",
      "  OR_ABI-L2-CMIPM1-M6C14_G16_s20200802033224_e20200802033281_c20200802033371.nc 100% 0.4MB 1s\n",
      "  OR_ABI-L2-CMIPM1-M6C14_G16_s20200802034224_e20200802034281_c20200802034370.nc 100% 0.4MB 1s\n"
     ]
    }
   ],
   "source": [
    "flist = GOES.download('goes16', 'ABI-L2-CMIPM',\n",
    "                      DateTimeIni = '20200320-203000', DateTimeFin = '20200320-203500',\n",
    "                      domain='M1', channel = ['10','13','14'], path_out='/home/joao/Downloads/')"
   ]
  },
  {
   "cell_type": "markdown",
   "metadata": {},
   "source": [
    "<a id='download_ABI_product'></a>\n",
    "## Download Level-2 products derived from ABI"
   ]
  },
  {
   "cell_type": "markdown",
   "metadata": {},
   "source": [
    "Level-2 products derived from ABI, as the *Rainfall Rate (Quantitative Precipitation Estimate) Full Disk* (**ABI-L2-RRQPEF**), can be download as following:"
   ]
  },
  {
   "cell_type": "code",
   "execution_count": 12,
   "metadata": {},
   "outputs": [
    {
     "name": "stdout",
     "output_type": "stream",
     "text": [
      "Files:\n",
      "  OR_ABI-L2-RRQPEF-M6_G16_s20200802030177_e20200802039485_c20200802040007.nc 100% 1.8MB 1s\n",
      "  OR_ABI-L2-RRQPEF-M6_G16_s20200802040177_e20200802049485_c20200802050036.nc 100% 1.8MB 1s\n",
      "  OR_ABI-L2-RRQPEF-M6_G16_s20200802050177_e20200802059485_c20200802059585.nc 100% 1.8MB 2s\n",
      "  OR_ABI-L2-RRQPEF-M6_G16_s20200802100177_e20200802109485_c20200802109583.nc 100% 1.8MB 1s\n"
     ]
    }
   ],
   "source": [
    "flist = GOES.download('goes16', 'ABI-L2-RRQPEF',\n",
    "                      DateTimeIni = '20200320-203000', DateTimeFin = '20200320-210100',\n",
    "                      path_out='/home/joao/Downloads/')"
   ]
  },
  {
   "cell_type": "markdown",
   "metadata": {},
   "source": [
    "<a id='download_glm'></a>\n",
    "## Download GLM data"
   ]
  },
  {
   "cell_type": "markdown",
   "metadata": {},
   "source": [
    "The following example show how to download the GLM data:"
   ]
  },
  {
   "cell_type": "code",
   "execution_count": 13,
   "metadata": {},
   "outputs": [
    {
     "name": "stdout",
     "output_type": "stream",
     "text": [
      "Files:\n",
      "  OR_GLM-L2-LCFA_G16_s20200802030000_e20200802030200_c20200802030227.nc 100% 0.4MB 1s\n",
      "  OR_GLM-L2-LCFA_G16_s20200802030200_e20200802030400_c20200802030430.nc 100% 0.4MB 1s\n",
      "  OR_GLM-L2-LCFA_G16_s20200802030400_e20200802031000_c20200802031031.nc 100% 0.4MB 1s\n",
      "  OR_GLM-L2-LCFA_G16_s20200802031000_e20200802031200_c20200802031228.nc 100% 0.4MB 1s\n",
      "  OR_GLM-L2-LCFA_G16_s20200802031200_e20200802031400_c20200802031425.nc 100% 0.4MB 1s\n",
      "  OR_GLM-L2-LCFA_G16_s20200802031400_e20200802032000_c20200802032026.nc 100% 0.4MB 1s\n",
      "  OR_GLM-L2-LCFA_G16_s20200802032000_e20200802032200_c20200802032228.nc 100% 0.4MB 0s\n",
      "  OR_GLM-L2-LCFA_G16_s20200802032200_e20200802032400_c20200802032428.nc 100% 0.4MB 0s\n",
      "  OR_GLM-L2-LCFA_G16_s20200802032400_e20200802033000_c20200802033027.nc 100% 0.3MB 1s\n",
      "  OR_GLM-L2-LCFA_G16_s20200802033000_e20200802033200_c20200802033228.nc 100% 0.4MB 1s\n"
     ]
    }
   ],
   "source": [
    "flist = GOES.download('goes16', 'GLM-L2-LCFA',\n",
    "                      DateTimeIni = '20200320-203000', DateTimeFin = '20200320-203300',\n",
    "                      path_out='/home/joao/Downloads/')"
   ]
  },
  {
   "cell_type": "markdown",
   "metadata": {},
   "source": [
    "<a id='rename_download_file'></a>\n",
    "## Rename downloaded file"
   ]
  },
  {
   "cell_type": "markdown",
   "metadata": {},
   "source": [
    "The name of GOES-16/17 data is very long because saves the start scan time, the end scan time and the scan file creation time, all of them is in julian day format. If you want to download files with a short name, keeping only the start scan time (with a custom date and time format), then use the **rename_fmt** parameter. This parameter uses the \"C\" date and time format. In the follow example is shown an example."
   ]
  },
  {
   "cell_type": "code",
   "execution_count": 14,
   "metadata": {},
   "outputs": [
    {
     "name": "stdout",
     "output_type": "stream",
     "text": [
      "Files:\n",
      "  OR_ABI-L2-CMIPF-M6C13_G16_s202003202030.nc 100% 27.0MB 14s\n",
      "  OR_ABI-L2-CMIPF-M6C13_G16_s202003202040.nc 100% 27.0MB 16s\n",
      "  OR_ABI-L2-CMIPF-M6C13_G16_s202003202050.nc 100% 27.0MB 9s\n",
      "  OR_ABI-L2-CMIPF-M6C13_G16_s202003202100.nc 100% 27.0MB 12s\n"
     ]
    },
    {
     "data": {
      "text/plain": [
       "['/home/joao/Downloads/OR_ABI-L2-CMIPF-M6C13_G16_s202003202030.nc',\n",
       " '/home/joao/Downloads/OR_ABI-L2-CMIPF-M6C13_G16_s202003202040.nc',\n",
       " '/home/joao/Downloads/OR_ABI-L2-CMIPF-M6C13_G16_s202003202050.nc',\n",
       " '/home/joao/Downloads/OR_ABI-L2-CMIPF-M6C13_G16_s202003202100.nc']"
      ]
     },
     "execution_count": 14,
     "metadata": {},
     "output_type": "execute_result"
    }
   ],
   "source": [
    "GOES.download('goes16', 'ABI-L2-CMIPF',\n",
    "              DateTimeIni = '20200320-203000', DateTimeFin = '20200320-210100', \n",
    "              channel = ['13'], rename_fmt = '%Y%m%d%H%M', path_out='/home/joao/Downloads/')"
   ]
  },
  {
   "cell_type": "markdown",
   "metadata": {},
   "source": [
    "In the last example the **rename_fmt** was **'%Y%m%d%H%M'**, which means: **year** (4-digits), **month** (2-digits), **day** (2-digits), **hour** (2-digits) and **minutes** (2-digits)."
   ]
  },
  {
   "cell_type": "markdown",
   "metadata": {},
   "source": [
    "For cases where the data have a higher temporal resolution, as the GLM data, you going to need add the **seconds** code in **rename_fmt**. See the follow example."
   ]
  },
  {
   "cell_type": "code",
   "execution_count": 15,
   "metadata": {},
   "outputs": [
    {
     "name": "stdout",
     "output_type": "stream",
     "text": [
      "Files:\n",
      "  OR_GLM-L2-LCFA_G16_s20200320203000.nc 100% 0.4MB 1s\n",
      "  OR_GLM-L2-LCFA_G16_s20200320203020.nc 100% 0.4MB 0s\n",
      "  OR_GLM-L2-LCFA_G16_s20200320203040.nc 100% 0.4MB 0s\n",
      "  OR_GLM-L2-LCFA_G16_s20200320203100.nc 100% 0.4MB 1s\n",
      "  OR_GLM-L2-LCFA_G16_s20200320203120.nc 100% 0.4MB 1s\n",
      "  OR_GLM-L2-LCFA_G16_s20200320203140.nc 100% 0.4MB 1s\n",
      "  OR_GLM-L2-LCFA_G16_s20200320203200.nc 100% 0.4MB 1s\n"
     ]
    },
    {
     "data": {
      "text/plain": [
       "['/home/joao/Downloads/OR_GLM-L2-LCFA_G16_s20200320203000.nc',\n",
       " '/home/joao/Downloads/OR_GLM-L2-LCFA_G16_s20200320203020.nc',\n",
       " '/home/joao/Downloads/OR_GLM-L2-LCFA_G16_s20200320203040.nc',\n",
       " '/home/joao/Downloads/OR_GLM-L2-LCFA_G16_s20200320203100.nc',\n",
       " '/home/joao/Downloads/OR_GLM-L2-LCFA_G16_s20200320203120.nc',\n",
       " '/home/joao/Downloads/OR_GLM-L2-LCFA_G16_s20200320203140.nc',\n",
       " '/home/joao/Downloads/OR_GLM-L2-LCFA_G16_s20200320203200.nc']"
      ]
     },
     "execution_count": 15,
     "metadata": {},
     "output_type": "execute_result"
    }
   ],
   "source": [
    "GOES.download('goes16', 'GLM-L2-LCFA',\n",
    "              DateTimeIni = '20200320-203000', DateTimeFin = '20200320-203200',\n",
    "              rename_fmt = '%Y%m%d%H%M%S', path_out='/home/joao/Downloads/')"
   ]
  }
 ],
 "metadata": {
  "kernelspec": {
   "display_name": "Python 3 (ipykernel)",
   "language": "python",
   "name": "python3"
  },
  "language_info": {
   "codemirror_mode": {
    "name": "ipython",
    "version": 3
   },
   "file_extension": ".py",
   "mimetype": "text/x-python",
   "name": "python",
   "nbconvert_exporter": "python",
   "pygments_lexer": "ipython3",
   "version": "3.8.13"
  }
 },
 "nbformat": 4,
 "nbformat_minor": 4
}

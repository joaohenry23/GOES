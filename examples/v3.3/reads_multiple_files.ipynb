{
 "cells": [
  {
   "cell_type": "markdown",
   "metadata": {},
   "source": [
    "# Reads multiple files\n",
    "This jupyter notebook shows how to use the **open_mfdataset** function of **GOES** package, to read and get the information from **multiple** GOES-16/17 files of **GLM sensor**.\n",
    "\\\n",
    "Please, keep in mind that **open_mfdataset** is intended to open multiple files of GLM sensor, whereas [open_dataset](https://github.com/joaohenry23/GOES/blob/master/examples/v3.1/reads_files.ipynb) open just one file no matter if is a file from ABI or GLM sensor.\n",
    "\n",
    "Index:\n",
    "- [Reads multiple files](#reads_multiple_files)\n",
    "- [Gets attribute from file](#gets_attribute)\n",
    "- [Gets variable from file](#gets_variable)\n",
    "- [Gets dimension from file](#gets_dimension)"
   ]
  },
  {
   "cell_type": "markdown",
   "metadata": {},
   "source": [
    "<a id='reads_multiple_files'></a>\n",
    "## Reads multiple files"
   ]
  },
  {
   "cell_type": "markdown",
   "metadata": {},
   "source": [
    "Sets path and name of file that will be read."
   ]
  },
  {
   "cell_type": "code",
   "execution_count": 1,
   "metadata": {},
   "outputs": [],
   "source": [
    "files = ['/home/joao/Downloads/OR_GLM-L2-LCFA_G16_s20200802030000_e20200802030200_c20200802030227.nc',\n",
    "         '/home/joao/Downloads/OR_GLM-L2-LCFA_G16_s20200802030200_e20200802030400_c20200802030430.nc',\n",
    "         '/home/joao/Downloads/OR_GLM-L2-LCFA_G16_s20200802030400_e20200802031000_c20200802031031.nc']"
   ]
  },
  {
   "cell_type": "markdown",
   "metadata": {},
   "source": [
    "Import the GOES package."
   ]
  },
  {
   "cell_type": "code",
   "execution_count": 2,
   "metadata": {},
   "outputs": [],
   "source": [
    "import GOES"
   ]
  },
  {
   "cell_type": "markdown",
   "metadata": {},
   "source": [
    "Reads files."
   ]
  },
  {
   "cell_type": "code",
   "execution_count": 3,
   "metadata": {},
   "outputs": [],
   "source": [
    "ds = GOES.open_mfdataset(files)"
   ]
  },
  {
   "cell_type": "markdown",
   "metadata": {},
   "source": [
    "Display the content of files."
   ]
  },
  {
   "cell_type": "code",
   "execution_count": 4,
   "metadata": {},
   "outputs": [
    {
     "name": "stdout",
     "output_type": "stream",
     "text": [
      "<class 'GOES.processing.processing_data.open_mfdataset'>\n",
      "\n",
      "number files: 3\n",
      "/home/joao/Downloads/OR_GLM-L2-LCFA_G16_s20200802030000_e20200802030200_c20200802030227.nc\n",
      "/home/joao/Downloads/OR_GLM-L2-LCFA_G16_s20200802030200_e20200802030400_c20200802030430.nc\n",
      "/home/joao/Downloads/OR_GLM-L2-LCFA_G16_s20200802030400_e20200802031000_c20200802031031.nc\n",
      "\n",
      "attribute:\n",
      "   production_site               \n",
      "   featureType                   \n",
      "   dataset_name                  \n",
      "   naming_authority              \n",
      "   Conventions                   \n",
      "   institution                   \n",
      "   project                       \n",
      "   iso_series_metadata_id        \n",
      "   Metadata_Conventions          \n",
      "   keywords_vocabulary           \n",
      "   standard_name_vocabulary      \n",
      "   title                         \n",
      "   summary                       \n",
      "   license                       \n",
      "   keywords                      \n",
      "   cdm_data_type                 \n",
      "   processing_level              \n",
      "   orbital_slot                  \n",
      "   platform_ID                   \n",
      "   instrument_ID                 \n",
      "   instrument_type               \n",
      "   spatial_resolution            \n",
      "   date_created                  \n",
      "   time_coverage_start           \n",
      "   time_coverage_end             \n",
      "   production_data_source        \n",
      "   production_environment        \n",
      "   LUT_Filenames                 \n",
      "   id                            \n",
      "\n",
      "dimension:\n",
      "   number_of_flashes                                 \n",
      "   number_of_groups                                  \n",
      "   number_of_events                                  \n",
      "   number_of_time_bounds                             \n",
      "   number_of_field_of_view_bounds                    \n",
      "   number_of_wavelength_bounds                       \n",
      "\n",
      "variable:\n",
      "   product_time                                       () float64\n",
      "   lightning_wavelength                               () float32\n",
      "   group_time_threshold                               () float32\n",
      "   flash_time_threshold                               () float32\n",
      "   lat_field_of_view                                  () float32\n",
      "   goes_lat_lon_projection                            () int32\n",
      "   event_count                                        () int32\n",
      "   group_count                                        () int32\n",
      "   flash_count                                        () int32\n",
      "   percent_navigated_L1b_events                       () float32\n",
      "   yaw_flip_flag                                      () int8\n",
      "   nominal_satellite_subpoint_lat                     () float32\n",
      "   nominal_satellite_height                           () float32\n",
      "   nominal_satellite_subpoint_lon                     () float32\n",
      "   lon_field_of_view                                  () float32\n",
      "   percent_uncorrectable_L0_errors                    () float32\n",
      "   algorithm_dynamic_input_data_container             () int32\n",
      "   processing_parm_version_container                  () int32\n",
      "   algorithm_product_version_container                () int32\n",
      "   event_id                                           (number_of_events) int32\n",
      "   event_time_offset                                  (number_of_events) int16\n",
      "   event_lat                                          (number_of_events) int16\n",
      "   event_lon                                          (number_of_events) int16\n",
      "   event_energy                                       (number_of_events) int16\n",
      "   event_parent_group_id                              (number_of_events) int32\n",
      "   group_id                                           (number_of_groups) int32\n",
      "   group_time_offset                                  (number_of_groups) int16\n",
      "   group_frame_time_offset                            (number_of_groups) int16\n",
      "   group_lat                                          (number_of_groups) float32\n",
      "   group_lon                                          (number_of_groups) float32\n",
      "   group_area                                         (number_of_groups) int16\n",
      "   group_energy                                       (number_of_groups) int16\n",
      "   group_parent_flash_id                              (number_of_groups) int16\n",
      "   group_quality_flag                                 (number_of_groups) int16\n",
      "   flash_id                                           (number_of_flashes) int16\n",
      "   flash_time_offset_of_first_event                   (number_of_flashes) int16\n",
      "   flash_time_offset_of_last_event                    (number_of_flashes) int16\n",
      "   flash_frame_time_offset_of_first_event             (number_of_flashes) int16\n",
      "   flash_frame_time_offset_of_last_event              (number_of_flashes) int16\n",
      "   flash_lat                                          (number_of_flashes) float32\n",
      "   flash_lon                                          (number_of_flashes) float32\n",
      "   flash_area                                         (number_of_flashes) int16\n",
      "   flash_energy                                       (number_of_flashes) int16\n",
      "   flash_quality_flag                                 (number_of_flashes) int16\n",
      "   product_time_bounds                                (number_of_time_bounds) float64\n",
      "   lightning_wavelength_bounds                        (number_of_wavelength_bounds) float32\n",
      "   lat_field_of_view_bounds                           (number_of_field_of_view_bounds) float32\n",
      "   lon_field_of_view_bounds                           (number_of_field_of_view_bounds) float32\n",
      "\n",
      "image:\n",
      "\n",
      "group:\n",
      "\n"
     ]
    }
   ],
   "source": [
    "print(ds)"
   ]
  },
  {
   "cell_type": "markdown",
   "metadata": {},
   "source": [
    "<a id='gets_attribute'></a>\n",
    "## Gets attribute from files"
   ]
  },
  {
   "cell_type": "markdown",
   "metadata": {},
   "source": [
    "**Attribute** is a string parameters with information about the files. To get a concatenated attribute from multiple files, write the follow:"
   ]
  },
  {
   "cell_type": "code",
   "execution_count": 5,
   "metadata": {},
   "outputs": [
    {
     "name": "stdout",
     "output_type": "stream",
     "text": [
      "['GLM L2 Lightning Detections: Events, Groups, and Flashes', 'GLM L2 Lightning Detections: Events, Groups, and Flashes', 'GLM L2 Lightning Detections: Events, Groups, and Flashes']\n"
     ]
    }
   ],
   "source": [
    "title = ds.attribute('title')\n",
    "print(title)"
   ]
  },
  {
   "cell_type": "code",
   "execution_count": 6,
   "metadata": {},
   "outputs": [
    {
     "name": "stdout",
     "output_type": "stream",
     "text": [
      "['GOES-East', 'GOES-East', 'GOES-East']\n"
     ]
    }
   ],
   "source": [
    "orbital = ds.attribute('orbital_slot')\n",
    "print(orbital)"
   ]
  },
  {
   "cell_type": "code",
   "execution_count": 7,
   "metadata": {},
   "outputs": [
    {
     "name": "stdout",
     "output_type": "stream",
     "text": [
      "['8km at nadir', '8km at nadir', '8km at nadir']\n"
     ]
    }
   ],
   "source": [
    "resol = ds.attribute('spatial_resolution')\n",
    "print(resol)"
   ]
  },
  {
   "cell_type": "markdown",
   "metadata": {},
   "source": [
    "<a id='gets_variable'></a>\n",
    "## Gets variable from file"
   ]
  },
  {
   "cell_type": "markdown",
   "metadata": {},
   "source": [
    "**Variable** is a python class that content a parameter with theirs attributes. To get a concatenated variable from multiple files, write the follow:"
   ]
  },
  {
   "cell_type": "code",
   "execution_count": 8,
   "metadata": {},
   "outputs": [
    {
     "name": "stdout",
     "output_type": "stream",
     "text": [
      "<class 'GOES.processing.processing_data.GOES'>\n",
      "\n",
      "Keys:\n",
      "   long_name                     : start time of observations associated with product\n",
      "   standard_name                 : time\n",
      "   axis                          : T\n",
      "   bounds                        : product_time_bounds\n",
      "   dimensions                    : (number_of_files)\n",
      "   data                          (3) object\n",
      "\n"
     ]
    }
   ],
   "source": [
    "ptime = ds.variable('product_time')\n",
    "print(ptime)"
   ]
  },
  {
   "cell_type": "markdown",
   "metadata": {},
   "source": [
    "Print one attribute of parameter."
   ]
  },
  {
   "cell_type": "code",
   "execution_count": 9,
   "metadata": {},
   "outputs": [
    {
     "name": "stdout",
     "output_type": "stream",
     "text": [
      "start time of observations associated with product\n"
     ]
    }
   ],
   "source": [
    "print(ptime.long_name)"
   ]
  },
  {
   "cell_type": "markdown",
   "metadata": {},
   "source": [
    "Print the parameter value:"
   ]
  },
  {
   "cell_type": "code",
   "execution_count": 10,
   "metadata": {},
   "outputs": [
    {
     "name": "stdout",
     "output_type": "stream",
     "text": [
      "[datetime.datetime(2020, 3, 20, 20, 30)\n",
      " datetime.datetime(2020, 3, 20, 20, 30, 20)\n",
      " datetime.datetime(2020, 3, 20, 20, 30, 40)]\n"
     ]
    }
   ],
   "source": [
    "print(ptime.data)"
   ]
  },
  {
   "cell_type": "markdown",
   "metadata": {},
   "source": [
    "**The information shown above is the result of concatenating the values of each file.** Use the position index to select one of them."
   ]
  },
  {
   "cell_type": "code",
   "execution_count": 11,
   "metadata": {},
   "outputs": [
    {
     "name": "stdout",
     "output_type": "stream",
     "text": [
      "2020-03-20 20:30:00\n"
     ]
    }
   ],
   "source": [
    "print(ptime.data[0])"
   ]
  },
  {
   "cell_type": "markdown",
   "metadata": {},
   "source": [
    "\\\n",
    "**Getting other variable:**"
   ]
  },
  {
   "cell_type": "code",
   "execution_count": 12,
   "metadata": {},
   "outputs": [
    {
     "name": "stdout",
     "output_type": "stream",
     "text": [
      "<class 'GOES.processing.processing_data.GOES'>\n",
      "\n",
      "Keys:\n",
      "   long_name                     : GLM L2+ Lightning Detection: flash centroid (mea...\n",
      "   standard_name                 : longitude\n",
      "   units                         : degrees_east\n",
      "   axis                          : X\n",
      "   dimensions                    : (number_of_flashes)\n",
      "   data                          (980) float32\n",
      "\n"
     ]
    }
   ],
   "source": [
    "flash_lon = ds.variable('flash_lon')\n",
    "print(flash_lon)"
   ]
  },
  {
   "cell_type": "markdown",
   "metadata": {},
   "source": [
    "Print one attribute of parameter."
   ]
  },
  {
   "cell_type": "code",
   "execution_count": 13,
   "metadata": {},
   "outputs": [
    {
     "name": "stdout",
     "output_type": "stream",
     "text": [
      "GLM L2+ Lightning Detection: flash centroid (mean constituent event latitude weighted by their energies) longitude coordinate\n"
     ]
    }
   ],
   "source": [
    "print(flash_lon.long_name)"
   ]
  },
  {
   "cell_type": "markdown",
   "metadata": {},
   "source": [
    "Print the parameter value:"
   ]
  },
  {
   "cell_type": "code",
   "execution_count": 14,
   "metadata": {},
   "outputs": [
    {
     "name": "stdout",
     "output_type": "stream",
     "text": [
      "[-51.963566 -41.88771  -73.47105  -66.615074 -77.36506  -41.971878\n",
      " -73.435616 -75.02328  -52.580544 -68.0598   -45.69134  -73.257675\n",
      " -73.38747  -76.40611  -70.695595 -74.82899  -41.081795 -58.66058\n",
      " -40.89738  -46.839233 -74.59344  -73.15471  -68.70659  -72.6078\n",
      " -68.8422   -67.027565 -77.71923  -43.750687 -46.28707  -62.247845\n",
      " -65.163    -70.86447  -67.89588  -72.71235  -46.192307 -76.26501\n",
      " -77.83206  -74.95224  -77.15093  -39.426285 -77.33878  -42.140926\n",
      " -75.02373  -29.096317 -74.63655  -73.32695  -72.41966  -67.99091\n",
      " -66.37139  -72.5904   -70.89731  -47.02096  -37.316494 -75.23725\n",
      " -53.544224 -50.93491  -42.48208  -69.5163   -67.381256 -68.03525\n",
      " -42.565792 -70.44007  -67.18827  -68.331795 -67.34893  -75.18119\n",
      " -46.30169  -53.561893 -39.304688 -45.134148 -41.005207 -68.73255\n",
      " -77.93581  -41.08304  -42.050415 -70.36379  -50.65703  -71.04769\n",
      " -76.79318  -68.49082  -67.181465 -77.155975 -65.669    -40.936302\n",
      " -70.60527  -72.66282  -43.726383 -68.3549   -72.00677  -71.24922\n",
      " -61.93518  -41.077255 -38.617935 -68.72871  -74.46623  -50.099163\n",
      " -46.339836 -42.37403  -42.22636  -74.94726  -65.52492  -68.85174\n",
      " -53.62019  -63.038383 -50.11274  -40.881573 -40.130764 -62.828926\n",
      " -65.50473  -43.49057  -69.16738  -65.94509  -72.590225 -63.722626\n",
      " -41.066017 -39.36349  -66.016525 -72.046425 -67.422874 -67.9801\n",
      " -78.018265 -76.28274  -73.435524 -65.30637  -67.22419  -73.52092\n",
      " -68.36509  -67.839874 -70.148735 -65.06858  -72.39633  -66.20186\n",
      " -40.272686 -67.218506 -73.545395 -69.23234  -72.62536  -67.85829\n",
      " -46.269455 -77.19469  -67.23294  -33.262203 -72.886024 -74.41609\n",
      " -70.52567  -28.837126 -62.072495 -42.07519  -66.85629  -40.97302\n",
      " -68.137726 -77.81452  -68.76685  -71.18714  -64.33329  -70.645325\n",
      " -50.709454 -68.45903  -73.37447  -73.51017  -71.65746  -77.43673\n",
      " -63.866287 -53.221985 -68.9459   -68.55302  -67.85398  -77.17406\n",
      " -67.858696 -64.83872  -68.73184  -44.09415  -68.72007  -53.59244\n",
      " -65.3019   -48.959454 -72.71185  -64.82515  -50.256607 -73.44763\n",
      " -92.47514  -53.70213  -70.76165  -72.108116 -63.62584  -77.22225\n",
      " -69.77023  -73.45501  -66.36237  -68.35121  -68.19146  -41.582256\n",
      " -73.28065  -68.15741  -70.65364  -73.17596  -74.4995   -67.77387\n",
      " -58.60225  -68.58882  -40.897045 -50.469666 -42.163666 -69.30498\n",
      " -70.28303  -71.726006 -68.782394 -38.30041  -72.66175  -50.963223\n",
      " -67.85935  -67.4325   -70.11184  -50.64804  -47.421272 -74.95235\n",
      " -75.19247  -66.2871   -67.76943  -77.719315 -70.37646  -74.62985\n",
      " -39.460457 -69.18968  -68.90123  -54.02477  -76.718124 -46.902576\n",
      " -40.3902   -70.36578  -65.9855   -46.21542  -41.066097 -77.23785\n",
      " -72.590065 -77.86344  -77.150986 -66.009865 -66.981186 -41.04906\n",
      " -74.860596 -76.29264  -63.239037 -70.96828  -70.45525  -72.79972\n",
      " -74.4239   -71.272514 -70.00262  -72.66622  -41.86261  -67.800896\n",
      " -43.88114  -53.624443 -68.358505 -39.379326 -46.366768 -73.09646\n",
      " -77.36581  -68.72887  -70.93888  -66.278046 -76.79338  -67.32148\n",
      " -74.444824 -69.03721  -39.32043  -40.913757 -39.733414 -68.99139\n",
      " -66.19013  -72.6946   -50.171555 -73.21342  -70.531586 -77.8642\n",
      " -72.71627  -73.20468  -75.18191  -78.00887  -51.899166 -67.84251\n",
      " -73.32942  -75.2432   -66.13933  -71.11897  -67.89184  -68.356514\n",
      " -75.10296  -73.21132  -77.622574 -42.64049  -69.65133  -51.84656\n",
      " -70.853516 -46.274788 -40.775932 -50.57365  -72.60905  -73.329865\n",
      " -77.71998  -66.195305 -76.30466  -68.564255 -40.31609  -68.7194\n",
      " -67.28717  -66.043495 -42.15281  -42.442055 -43.089947 -72.67389\n",
      " -67.97884  -40.77634  -51.759644 -69.23743  -72.70145  -39.16716\n",
      " -66.54844  -65.282364 -70.11249  -71.19965  -53.683495 -77.22333\n",
      " -68.18688  -76.47953  -53.307858 -70.57796  -36.152565 -67.153404\n",
      " -50.243534 -73.583015 -66.774155 -77.37609  -39.625633 -37.32207\n",
      " -65.02444  -71.08877  -51.364914 -65.647194 -69.396355 -52.36189\n",
      " -76.37963  -74.431465 -75.02127  -68.69258  -63.76231  -69.29339\n",
      " -65.36967  -42.12907  -68.54719  -73.85699  -67.769806 -41.241318\n",
      " -28.842455 -61.944275 -77.15469  -43.725292 -87.32767  -65.52064\n",
      " -68.6015   -77.87461  -40.559345 -39.305367 -52.042942 -70.645836\n",
      " -68.982605 -46.325787 -53.637333 -66.08926  -67.98079  -73.41427\n",
      " -66.91656  -68.71936  -68.17908  -67.21108  -74.39184  -72.62653\n",
      " -67.3384   -39.244167 -74.61573  -42.61205  -72.34059  -50.186657\n",
      " -69.08051  -51.8367   -77.734764 -75.07783  -67.24724  -58.64883\n",
      " -42.2449   -76.341255 -65.66405  -73.26102  -41.07564  -66.97096\n",
      " -75.192604 -66.37142  -50.543842 -73.43599  -39.382248 -68.674\n",
      " -50.86331  -50.881138 -77.033035 -68.77847  -66.63079  -68.95082\n",
      " -65.15354  -67.5501   -68.15099  -75.5142   -77.365364 -68.73101\n",
      " -43.536217 -68.07121  -41.003323 -39.75146  -71.25733  -64.10471\n",
      " -46.824894 -65.29505  -69.606735 -72.02483  -75.6872   -49.762226\n",
      " -68.02661  -32.925465 -68.95331  -68.52624  -77.222755 -40.85992\n",
      " -65.66814  -68.06895  -68.79493  -71.712456 -74.4776   -73.20061\n",
      " -66.654915 -42.14447  -72.6563   -67.87284  -70.54683  -78.017296\n",
      " -49.920086 -77.95868  -68.1756   -76.75044  -69.79225  -43.741276\n",
      " -43.725807 -73.32503  -73.37158  -45.04092  -64.57038  -69.090096\n",
      " -70.46468  -65.26884  -75.50404  -77.87273  -71.31897  -43.676136\n",
      " -70.07143  -68.43894  -77.7222   -64.79644  -73.197426 -68.362175\n",
      " -52.94077  -74.950485 -28.838377 -70.383705 -42.060898 -67.43336\n",
      " -68.575516 -39.75506  -67.9821   -68.28736  -72.52025  -63.585056\n",
      " -39.69429  -58.77449  -45.019234 -43.778667 -73.32183  -42.26821\n",
      " -70.50317  -39.36895  -75.28175  -41.056164 -46.29832  -72.747536\n",
      " -50.802334 -68.71866  -73.15496  -72.613495 -77.87233  -65.906746\n",
      " -66.049065 -37.851166 -53.60746  -65.09451  -50.13779  -45.39256\n",
      " -68.85055  -67.25225  -75.184685 -65.864845 -77.1511   -70.70763\n",
      " -74.93253  -66.31697  -50.445198 -46.933002 -50.960136 -74.426216\n",
      " -73.253235 -68.13635  -73.51793  -68.73357  -67.50694  -68.4061\n",
      " -62.14591  -48.250027 -52.013176 -40.92954  -61.87121  -73.37581\n",
      " -40.96395  -37.71718  -67.43027  -73.42978  -39.506687 -75.01097\n",
      " -39.783627 -66.227325 -71.06127  -69.36543  -73.44682  -74.65941\n",
      " -67.42007  -66.37119  -69.992165 -68.732925 -76.80174  -53.609432\n",
      " -66.526726 -68.35906  -68.72139  -74.73047  -40.88753  -65.51867\n",
      " -67.83791  -42.60568  -76.27883  -70.883316 -72.76567  -46.19295\n",
      " -67.12022  -68.52684  -69.138916 -77.86345  -72.70518  -71.22227\n",
      " -42.14136  -69.29201  -70.53074  -67.8817   -52.458195 -52.985954\n",
      " -65.6603   -40.99906  -50.465363 -50.81325  -68.64957  -72.09786\n",
      " -51.982616 -73.459175 -77.3863   -68.748924 -62.018227 -46.83758\n",
      " -64.01834  -73.25272  -68.54962  -66.06303  -74.85192  -67.692955\n",
      " -67.8412   -51.059273 -72.428894 -46.263172 -71.66723  -72.60175\n",
      " -77.92866  -67.44235  -44.291786 -76.35532  -53.472557 -42.09061\n",
      " -48.375046 -67.123665 -46.285984 -41.067314 -39.77656  -73.388\n",
      " -71.46303  -40.915268 -72.83162  -46.348534 -39.341885 -74.46625\n",
      " -65.732    -67.83098  -76.35484  -58.685303 -42.628925 -72.41017\n",
      " -65.21302  -42.0325   -39.039234 -78.008484 -52.994877 -72.70447\n",
      " -66.12978  -73.440315 -73.19484  -40.84095  -68.92343  -70.643814\n",
      " -50.6375   -74.31938  -40.883762 -63.864117 -67.87333  -39.6841\n",
      " -69.235695 -39.349716 -72.881454 -67.2563   -49.011967 -43.79801\n",
      " -69.0792   -61.784748 -72.748276 -66.30601  -68.058174 -70.11328\n",
      " -50.929413 -50.766045 -70.095634 -53.22281  -73.52903  -70.74481\n",
      " -75.19281  -53.170414 -43.01107  -42.584114 -68.72987  -70.33446\n",
      " -52.4909   -53.60693  -68.718575 -46.326744 -43.17223  -67.2018\n",
      " -76.42317  -41.095695 -73.29315  -42.14207  -28.840485 -74.66153\n",
      " -48.639454 -73.25444  -66.17622  -39.334927 -68.47172  -74.42332\n",
      " -68.72841  -66.966095 -67.8476   -73.491325 -66.107735 -70.5299\n",
      " -74.89764  -67.93447  -66.86818  -40.909107 -71.18917  -68.34906\n",
      " -46.38484  -69.737236 -77.15094  -65.33282  -72.57265  -60.79863\n",
      " -67.85502  -42.142952 -68.58916  -71.26718  -42.58074  -72.13664\n",
      " -72.70795  -42.470543 -73.19314  -64.71532  -75.27733  -65.89906\n",
      " -72.73473  -66.80064  -75.02337  -39.325874 -68.470345 -68.71855\n",
      " -41.22051  -68.19153  -53.311726 -64.747406 -64.43256  -47.025436\n",
      " -67.42228  -42.138454 -66.98213  -61.453804 -77.844574 -73.24117\n",
      " -39.754814 -77.15722  -74.125114 -70.4495   -50.18734  -68.19648\n",
      " -75.503555 -75.2007   -43.7254   -67.417755 -66.4933   -76.333755\n",
      " -72.63399  -40.201923 -50.59465  -72.66388  -42.07093  -46.34745\n",
      " -52.97293  -40.88894  -43.730007 -78.13176  -68.05211  -73.11385\n",
      " -58.62876  -40.244102 -71.70159  -73.150734 -67.015396 -74.5887\n",
      " -68.31942  -70.689545 -43.67552  -40.936283 -39.69682  -67.859116\n",
      " -68.664696 -37.016468 -68.77807  -68.59391  -67.962875 -40.950672\n",
      " -42.21371  -62.678925 -77.718994 -41.664463 -53.145496 -57.439728\n",
      " -73.500496 -41.003426 -66.26219  -59.18637  -40.832832 -68.90022\n",
      " -69.78589  -67.22426  -52.34503  -68.838394 -39.46935  -53.58872\n",
      " -66.26179  -77.37894  -68.5796   -48.437687 -65.88946  -67.97992\n",
      " -40.985146 -72.00262  -73.13252  -74.639656 -39.342094 -77.222336\n",
      " -69.215126 -70.53056  -38.6732   -70.90742  -40.9981   -28.838009\n",
      " -64.36077  -33.25905  -42.210144 -50.724    -66.99625  -37.319443\n",
      " -73.305534 -65.51931  -68.72804  -68.58007  -62.14767  -76.792534\n",
      " -68.76887  -65.97889  -70.37576  -47.790363 -65.368866 -66.29284\n",
      " -77.20076  -63.940216 -72.65469  -62.809444 -65.28443  -63.196323\n",
      " -70.847046 -69.95892  -71.26835  -72.661736 -78.02968  -75.01275\n",
      " -67.89729  -48.568176 -46.208973 -67.25805  -66.63053  -67.2084\n",
      " -66.364975 -42.36638  -73.20656  -66.07147  -72.589775 -68.418495\n",
      " -75.176506 -69.65408  -74.23562  -70.86844  -46.36718  -69.1108\n",
      " -68.39115  -77.69214  -51.903908 -69.2395   -77.41476  -66.83949\n",
      " -66.197464 -42.13736  -53.17177  -39.336662 -74.415504 -73.5905\n",
      " -40.97217  -77.93348  -73.39515  -65.147705 -65.28569  -75.29678\n",
      " -68.46137  -68.372475 -69.217834 -65.20235  -67.23154  -67.987785\n",
      " -67.78914  -78.65433  -72.1555   -75.07099  -77.16167  -73.17074\n",
      " -74.31591  -75.10602  -43.509853 -76.29201  -40.87619  -52.01471\n",
      " -52.700684 -36.915188 -41.03713  -71.25716  -39.520947 -53.659496\n",
      " -70.67597  -58.610188 -73.383606 -73.43552  -67.18577  -68.1419\n",
      " -69.09015  -66.04093  -71.922    -72.69591  -42.520626 -76.6448\n",
      " -72.76934  -77.87173  -69.37136  -50.55005  -42.22291  -75.38513\n",
      " -68.719025 -68.47499  -64.33687  -43.78872  -75.19271  -42.58963\n",
      " -50.170643 -75.29284  -68.346794 -68.3533   -78.07614  -70.8963\n",
      " -69.85231  -65.983696 -68.59798  -67.19544  -68.83411  -69.016075\n",
      " -77.21427  -63.74309  -48.451973 -40.815723 -39.20034  -67.85031\n",
      " -36.98575  -68.21141  -67.13444  -67.99536  -50.738087 -77.152985\n",
      " -41.592842 -43.727158 -39.27141  -73.11537  -65.05527  -67.885475\n",
      " -67.777565 -69.23339  -48.70408  -74.62797  -66.72611  -77.38048\n",
      " -76.36266  -70.63102  -73.295425 -46.119118 -67.25494  -69.025894\n",
      " -53.6093   -66.827675 -67.2255   -76.42715  -44.057617 -67.111565\n",
      " -68.20212  -68.163925 -51.613697 -72.400604 -74.92257  -72.53256\n",
      " -41.9473   -74.77386  -66.330414 -67.89167  -74.23363  -66.12877\n",
      " -72.70256  -75.02454 ]\n"
     ]
    }
   ],
   "source": [
    "print(flash_lon.data)"
   ]
  },
  {
   "cell_type": "markdown",
   "metadata": {},
   "source": [
    "**The information shown above is the result of concatenating the values of each file.**"
   ]
  },
  {
   "cell_type": "markdown",
   "metadata": {},
   "source": [
    "<a id='gets_dimension'></a>\n",
    "## Gets dimension from file"
   ]
  },
  {
   "cell_type": "markdown",
   "metadata": {},
   "source": [
    "**Dimension** is a class with the spatial attributes of the variables. To get a concatenated dimension from multiple files, write the follow:"
   ]
  },
  {
   "cell_type": "code",
   "execution_count": 15,
   "metadata": {},
   "outputs": [
    {
     "name": "stdout",
     "output_type": "stream",
     "text": [
      "<class 'GOES.processing.processing_data.GOES'>\n",
      "\n",
      "Keys:\n",
      "   name                          (3) <U17\n",
      "   size                          (3) int64\n",
      "\n"
     ]
    }
   ],
   "source": [
    "num_flashes = ds.dimension('number_of_flashes')\n",
    "print(num_flashes)"
   ]
  },
  {
   "cell_type": "markdown",
   "metadata": {},
   "source": [
    "Theirs attributes are **name** and **size**."
   ]
  },
  {
   "cell_type": "code",
   "execution_count": 16,
   "metadata": {},
   "outputs": [
    {
     "name": "stdout",
     "output_type": "stream",
     "text": [
      "['number_of_flashes' 'number_of_flashes' 'number_of_flashes']\n"
     ]
    }
   ],
   "source": [
    "print(num_flashes.name)"
   ]
  },
  {
   "cell_type": "code",
   "execution_count": 17,
   "metadata": {},
   "outputs": [
    {
     "name": "stdout",
     "output_type": "stream",
     "text": [
      "[337 311 332]\n"
     ]
    }
   ],
   "source": [
    "print(num_flashes.size)"
   ]
  }
 ],
 "metadata": {
  "kernelspec": {
   "display_name": "Python 3",
   "language": "python",
   "name": "python3"
  },
  "language_info": {
   "codemirror_mode": {
    "name": "ipython",
    "version": 3
   },
   "file_extension": ".py",
   "mimetype": "text/x-python",
   "name": "python",
   "nbconvert_exporter": "python",
   "pygments_lexer": "ipython3",
   "version": "3.6.11"
  }
 },
 "nbformat": 4,
 "nbformat_minor": 4
}

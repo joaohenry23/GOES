{
 "cells": [
  {
   "cell_type": "markdown",
   "metadata": {},
   "source": [
    "# Reads one file\n",
    "This jupyter notebook shows how to use the **open_dataset** function of **GOES** package, to read and get the information from **one** GOES-16/17 file.\n",
    "\n",
    "Index:\n",
    "- [Reads file](#reads_file)\n",
    "- [Gets attribute from file](#gets_attribute)\n",
    "- [Gets variable from file](#gets_variable)\n",
    "- [Gets image from file](#gets_image)\n",
    "- [Gets dimension from file](#gets_dimension)"
   ]
  },
  {
   "cell_type": "markdown",
   "metadata": {},
   "source": [
    "<a id='reads_file'></a>\n",
    "## Reads file"
   ]
  },
  {
   "cell_type": "markdown",
   "metadata": {},
   "source": [
    "Sets path and name of file that will be read."
   ]
  },
  {
   "cell_type": "code",
   "execution_count": 1,
   "metadata": {},
   "outputs": [],
   "source": [
    "path = '/home/joao/Downloads/GOES-16/ABI/'\n",
    "file = 'OR_ABI-L2-CMIPF-M6C13_G16_s20200782000176_e20200782009496_c20200782010003.nc'"
   ]
  },
  {
   "cell_type": "markdown",
   "metadata": {},
   "source": [
    "Import the GOES package."
   ]
  },
  {
   "cell_type": "code",
   "execution_count": 2,
   "metadata": {},
   "outputs": [],
   "source": [
    "import GOES"
   ]
  },
  {
   "cell_type": "markdown",
   "metadata": {},
   "source": [
    "Reads file."
   ]
  },
  {
   "cell_type": "code",
   "execution_count": 3,
   "metadata": {},
   "outputs": [],
   "source": [
    "ds = GOES.open_dataset(path+file)"
   ]
  },
  {
   "cell_type": "markdown",
   "metadata": {},
   "source": [
    "Display the content of file."
   ]
  },
  {
   "cell_type": "code",
   "execution_count": 4,
   "metadata": {},
   "outputs": [
    {
     "name": "stdout",
     "output_type": "stream",
     "text": [
      "<class 'GOES.processing.processing_data.open_dataset'>\n",
      "\n",
      "attribute:\n",
      "   naming_authority              : gov.nesdis.noaa\n",
      "   Conventions                   : CF-1.7\n",
      "   Metadata_Conventions          : Unidata Dataset Discovery v1.0\n",
      "   standard_name_vocabulary      : CF Standard Name Table (v35, 20 July 2016)\n",
      "   institution                   : DOC/NOAA/NESDIS > U.S. Department of Commerce, N...\n",
      "   project                       : GOES\n",
      "   production_site               : NSOF\n",
      "   production_environment        : OE\n",
      "   spatial_resolution            : 2km at nadir\n",
      "   orbital_slot                  : GOES-East\n",
      "   platform_ID                   : G16\n",
      "   instrument_type               : GOES R Series Advanced Baseline Imager\n",
      "   scene_id                      : Full Disk\n",
      "   instrument_ID                 : FM1\n",
      "   dataset_name                  : OR_ABI-L2-CMIPF-M6C13_G16_s20200782000176_e20200...\n",
      "   iso_series_metadata_id        : 8c9e8150-3692-11e3-aa6e-0800200c9a66\n",
      "   title                         : ABI L2 Cloud and Moisture Imagery\n",
      "   summary                       : Single emissive band Cloud and Moisture Imagery ...\n",
      "   keywords                      : SPECTRAL/ENGINEERING > INFRARED WAVELENGTHS > BR...\n",
      "   keywords_vocabulary           : NASA Global Change Master Directory (GCMD) Earth...\n",
      "   license                       : Unclassified data.  Access is restricted to appr...\n",
      "   processing_level              : National Aeronautics and Space Administration (N...\n",
      "   date_created                  : 2020-03-18T20:10:00.3Z\n",
      "   cdm_data_type                 : Image\n",
      "   time_coverage_start           : 2020-03-18T20:00:17.6Z\n",
      "   time_coverage_end             : 2020-03-18T20:09:49.6Z\n",
      "   timeline_id                   : ABI Mode 6\n",
      "   production_data_source        : Realtime\n",
      "   id                            : 4dc67cfa-94ca-4526-a325-648f6b6f87de\n",
      "\n",
      "dimension:\n",
      "   y                                                  (5424)\n",
      "   x                                                  (5424)\n",
      "   number_of_time_bounds                              (2)\n",
      "   band                                               (1)\n",
      "   number_of_image_bounds                             (2)\n",
      "\n",
      "variable:\n",
      "   t                                                  () float64\n",
      "   goes_imager_projection                             () int32\n",
      "   y_image                                            () float32\n",
      "   x_image                                            () float32\n",
      "   nominal_satellite_subpoint_lat                     () float32\n",
      "   nominal_satellite_subpoint_lon                     () float32\n",
      "   nominal_satellite_height                           () float32\n",
      "   geospatial_lat_lon_extent                          () float32\n",
      "   total_number_of_points                             () int32\n",
      "   valid_pixel_count                                  () int32\n",
      "   outlier_pixel_count                                () int32\n",
      "   min_brightness_temperature                         () float32\n",
      "   max_brightness_temperature                         () float32\n",
      "   mean_brightness_temperature                        () float32\n",
      "   std_dev_brightness_temperature                     () float32\n",
      "   planck_fk1                                         () float32\n",
      "   planck_fk2                                         () float32\n",
      "   planck_bc1                                         () float32\n",
      "   planck_bc2                                         () float32\n",
      "   algorithm_dynamic_input_data_container             () int32\n",
      "   percent_uncorrectable_GRB_errors                   () float32\n",
      "   percent_uncorrectable_L0_errors                    () float32\n",
      "   earth_sun_distance_anomaly_in_AU                   () float32\n",
      "   processing_parm_version_container                  () int32\n",
      "   algorithm_product_version_container                () int32\n",
      "   esun                                               () float32\n",
      "   kappa0                                             () float32\n",
      "   focal_plane_temperature_threshold_exceeded_count   () int32\n",
      "   maximum_focal_plane_temperature                    () float32\n",
      "   focal_plane_temperature_threshold_increasing       () float32\n",
      "   focal_plane_temperature_threshold_decreasing       () float32\n",
      "   y                                                  (y) int16\n",
      "   x                                                  (x) int16\n",
      "   time_bounds                                        (number_of_time_bounds) float64\n",
      "   y_image_bounds                                     (number_of_image_bounds) float32\n",
      "   x_image_bounds                                     (number_of_image_bounds) float32\n",
      "   band_wavelength                                    (band) float32\n",
      "   band_id                                            (band) int32\n",
      "\n",
      "image:\n",
      "   CMI                                                (y, x) int16\n",
      "   DQF                                                (y, x) int8\n",
      "\n",
      "group:\n",
      "\n"
     ]
    }
   ],
   "source": [
    "print(ds)"
   ]
  },
  {
   "cell_type": "markdown",
   "metadata": {},
   "source": [
    "<a id='gets_attribute'></a>\n",
    "## Gets attribute from file"
   ]
  },
  {
   "cell_type": "markdown",
   "metadata": {},
   "source": [
    "**Attribute** is a string parameters with information about the file. To get one attribute from file, write the follow:"
   ]
  },
  {
   "cell_type": "code",
   "execution_count": 5,
   "metadata": {},
   "outputs": [
    {
     "name": "stdout",
     "output_type": "stream",
     "text": [
      "ABI L2 Cloud and Moisture Imagery\n"
     ]
    }
   ],
   "source": [
    "title = ds.attribute('title')\n",
    "print(title)"
   ]
  },
  {
   "cell_type": "code",
   "execution_count": 6,
   "metadata": {},
   "outputs": [
    {
     "name": "stdout",
     "output_type": "stream",
     "text": [
      "GOES-East\n"
     ]
    }
   ],
   "source": [
    "orbital = ds.attribute('orbital_slot')\n",
    "print(orbital)"
   ]
  },
  {
   "cell_type": "code",
   "execution_count": 7,
   "metadata": {},
   "outputs": [
    {
     "name": "stdout",
     "output_type": "stream",
     "text": [
      "2km at nadir\n"
     ]
    }
   ],
   "source": [
    "resol = ds.attribute('spatial_resolution')\n",
    "print(resol)"
   ]
  },
  {
   "cell_type": "markdown",
   "metadata": {},
   "source": [
    "<a id='gets_variable'></a>\n",
    "## Gets variable from file"
   ]
  },
  {
   "cell_type": "markdown",
   "metadata": {},
   "source": [
    "**Variable** is a python class that content a parameter with theirs attributes. Write the follow to get a variable:"
   ]
  },
  {
   "cell_type": "code",
   "execution_count": 8,
   "metadata": {},
   "outputs": [
    {
     "name": "stdout",
     "output_type": "stream",
     "text": [
      "<class 'GOES.processing.processing_data.GOES'>\n",
      "\n",
      "Keys:\n",
      "   long_name                     : nominal satellite height above GRS 80 ellipsoid ...\n",
      "   standard_name                 : height_above_reference_ellipsoid\n",
      "   units                         : km\n",
      "   dimensions                    : ()\n",
      "   data                          : 35786.0234375\n",
      "\n"
     ]
    }
   ],
   "source": [
    "hsat = ds.variable('nominal_satellite_height')\n",
    "print(hsat)"
   ]
  },
  {
   "cell_type": "markdown",
   "metadata": {},
   "source": [
    "Print one attribute of parameter."
   ]
  },
  {
   "cell_type": "code",
   "execution_count": 9,
   "metadata": {},
   "outputs": [
    {
     "name": "stdout",
     "output_type": "stream",
     "text": [
      "km\n"
     ]
    }
   ],
   "source": [
    "print(hsat.units)"
   ]
  },
  {
   "cell_type": "markdown",
   "metadata": {},
   "source": [
    "Print the parameter value:"
   ]
  },
  {
   "cell_type": "code",
   "execution_count": 10,
   "metadata": {},
   "outputs": [
    {
     "name": "stdout",
     "output_type": "stream",
     "text": [
      "35786.0234375\n"
     ]
    }
   ],
   "source": [
    "print(hsat.data)"
   ]
  },
  {
   "cell_type": "markdown",
   "metadata": {},
   "source": [
    "In the above example, the parameter is a simple number, for this reason, when the method **data** was used, the value was printed directly."
   ]
  },
  {
   "cell_type": "markdown",
   "metadata": {},
   "source": [
    "\\\n",
    "**Get other variable:**"
   ]
  },
  {
   "cell_type": "code",
   "execution_count": 11,
   "metadata": {},
   "outputs": [
    {
     "name": "stdout",
     "output_type": "stream",
     "text": [
      "<class 'GOES.processing.processing_data.GOES'>\n",
      "\n",
      "Keys:\n",
      "   long_name                     : Scan start and end times in seconds since epoch ...\n",
      "   dimensions                    : (number_of_time_bounds)\n",
      "   data                          (2) object\n",
      "\n"
     ]
    }
   ],
   "source": [
    "times = ds.variable('time_bounds')\n",
    "print(times)"
   ]
  },
  {
   "cell_type": "markdown",
   "metadata": {},
   "source": [
    "Print the parameter value:"
   ]
  },
  {
   "cell_type": "code",
   "execution_count": 12,
   "metadata": {},
   "outputs": [
    {
     "name": "stdout",
     "output_type": "stream",
     "text": [
      "[datetime.datetime(2020, 3, 18, 20, 0, 17, 677081)\n",
      " datetime.datetime(2020, 3, 18, 20, 9, 49, 618306)]\n"
     ]
    }
   ],
   "source": [
    "print(times.data)"
   ]
  },
  {
   "cell_type": "markdown",
   "metadata": {},
   "source": [
    "In this case, the parameter is an array and has two elements. Use the position index to select one of them."
   ]
  },
  {
   "cell_type": "code",
   "execution_count": 13,
   "metadata": {},
   "outputs": [
    {
     "name": "stdout",
     "output_type": "stream",
     "text": [
      "2020-03-18 20:09:49.618306\n"
     ]
    }
   ],
   "source": [
    "print(times.data[1])"
   ]
  },
  {
   "cell_type": "markdown",
   "metadata": {},
   "source": [
    "Print one attribute of parameter."
   ]
  },
  {
   "cell_type": "code",
   "execution_count": 14,
   "metadata": {},
   "outputs": [
    {
     "name": "stdout",
     "output_type": "stream",
     "text": [
      "Scan start and end times in seconds since epoch (2000-01-01 12:00:00)\n"
     ]
    }
   ],
   "source": [
    "print(times.long_name)"
   ]
  },
  {
   "cell_type": "markdown",
   "metadata": {},
   "source": [
    "<a id='gets_image'></a>\n",
    "## Gets image from file"
   ]
  },
  {
   "cell_type": "markdown",
   "metadata": {},
   "source": [
    "**Image** is a Python class that contains a parameter that has the dimensions ('y', 'x'). Write the follow to get a image:"
   ]
  },
  {
   "cell_type": "code",
   "execution_count": 15,
   "metadata": {},
   "outputs": [
    {
     "name": "stdout",
     "output_type": "stream",
     "text": [
      "<class 'GOES.processing.processing_data.GOES'>\n",
      "\n",
      "Keys:\n",
      "   long_name                     : ABI L2+ Cloud and Moisture Imagery brightness te...\n",
      "   standard_name                 : toa_brightness_temperature\n",
      "   units                         : K\n",
      "   undef                         : nan\n",
      "   axis                          : YX\n",
      "   dimensions                    : (y, x)\n",
      "   t                             <class 'GOES.processing.processing_data.GOES'>\n",
      "   time_bounds                   <class 'GOES.processing.processing_data.GOES'>\n",
      "   pixels_limits                 (4) int64\n",
      "   data                          (5424, 5424) float32\n",
      "\n"
     ]
    }
   ],
   "source": [
    "CMI, Lons, Lats = ds.image('CMI')\n",
    "print(CMI)"
   ]
  },
  {
   "cell_type": "markdown",
   "metadata": {},
   "source": [
    "Print the parameter value:"
   ]
  },
  {
   "cell_type": "code",
   "execution_count": 16,
   "metadata": {},
   "outputs": [
    {
     "name": "stdout",
     "output_type": "stream",
     "text": [
      "[[nan nan nan ... nan nan nan]\n",
      " [nan nan nan ... nan nan nan]\n",
      " [nan nan nan ... nan nan nan]\n",
      " ...\n",
      " [nan nan nan ... nan nan nan]\n",
      " [nan nan nan ... nan nan nan]\n",
      " [nan nan nan ... nan nan nan]]\n"
     ]
    }
   ],
   "source": [
    "print(CMI.data)"
   ]
  },
  {
   "cell_type": "markdown",
   "metadata": {},
   "source": [
    "Print one attribute of parameter."
   ]
  },
  {
   "cell_type": "code",
   "execution_count": 17,
   "metadata": {},
   "outputs": [
    {
     "name": "stdout",
     "output_type": "stream",
     "text": [
      "toa_brightness_temperature\n"
     ]
    }
   ],
   "source": [
    "print(CMI.standard_name)"
   ]
  },
  {
   "cell_type": "markdown",
   "metadata": {},
   "source": [
    "<a id='gets_dimension'></a>\n",
    "## Gets dimension from file"
   ]
  },
  {
   "cell_type": "markdown",
   "metadata": {},
   "source": [
    "**Dimensions** is a class with the spatial attributes of the variables. To get one dimension from file, write the follow:"
   ]
  },
  {
   "cell_type": "code",
   "execution_count": 18,
   "metadata": {},
   "outputs": [
    {
     "name": "stdout",
     "output_type": "stream",
     "text": [
      "<class 'GOES.processing.processing_data.GOES'>\n",
      "\n",
      "Keys:\n",
      "   name                          : x\n",
      "   size                          : 5424\n",
      "\n"
     ]
    }
   ],
   "source": [
    "dim_x = ds.dimension('x')\n",
    "print(dim_x)"
   ]
  },
  {
   "cell_type": "markdown",
   "metadata": {},
   "source": [
    "Theirs attributes are **name** and **size**."
   ]
  },
  {
   "cell_type": "code",
   "execution_count": 19,
   "metadata": {},
   "outputs": [
    {
     "name": "stdout",
     "output_type": "stream",
     "text": [
      "x\n"
     ]
    }
   ],
   "source": [
    "print(dim_x.name)"
   ]
  },
  {
   "cell_type": "code",
   "execution_count": 20,
   "metadata": {},
   "outputs": [
    {
     "name": "stdout",
     "output_type": "stream",
     "text": [
      "5424\n"
     ]
    }
   ],
   "source": [
    "print(dim_x.size)"
   ]
  }
 ],
 "metadata": {
  "kernelspec": {
   "display_name": "Python 3",
   "language": "python",
   "name": "python3"
  },
  "language_info": {
   "codemirror_mode": {
    "name": "ipython",
    "version": 3
   },
   "file_extension": ".py",
   "mimetype": "text/x-python",
   "name": "python",
   "nbconvert_exporter": "python",
   "pygments_lexer": "ipython3",
   "version": "3.6.11"
  }
 },
 "nbformat": 4,
 "nbformat_minor": 4
}
